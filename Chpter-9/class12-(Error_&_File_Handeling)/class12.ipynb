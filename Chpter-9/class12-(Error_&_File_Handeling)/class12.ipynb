{
 "cells": [
  {
   "cell_type": "markdown",
   "metadata": {},
   "source": [
    "# Handel Run time Error"
   ]
  },
  {
   "cell_type": "code",
   "execution_count": 5,
   "metadata": {},
   "outputs": [
    {
     "name": "stdout",
     "output_type": "stream",
     "text": [
      "logic-1\n",
      "logic-2\n",
      "Zero Division Error\n",
      "logic-3\n",
      "logic-4\n"
     ]
    }
   ],
   "source": [
    "print(\"logic-1\")\n",
    "print(\"logic-2\")\n",
    "\n",
    "li : list[int] = [1,2,3]\n",
    "\n",
    "try:\n",
    "    print(5/0)\n",
    "    print(li[0])\n",
    "    print(xyz)\n",
    "    \n",
    "except (ZeroDivisionError, IndexError, NameError):\n",
    "    print(\"Zero Division Error\")\n",
    "print(\"logic-3\")\n",
    "print(\"logic-4\")"
   ]
  },
  {
   "cell_type": "code",
   "execution_count": 16,
   "metadata": {},
   "outputs": [
    {
     "name": "stdout",
     "output_type": "stream",
     "text": [
      "logic-1\n",
      "logic-2\n",
      "2.5\n",
      "1\n",
      "Name is not define\n",
      "logic-3\n",
      "logic-4\n"
     ]
    }
   ],
   "source": [
    "print(\"logic-1\")\n",
    "print(\"logic-2\")\n",
    "\n",
    "li : list[int] = [1,2,3]\n",
    "\n",
    "try:\n",
    "    print(5/2)\n",
    "    print(li[0])\n",
    "    print(xyz) # Error\n",
    "    \n",
    "except ZeroDivisionError:\n",
    "    print(\"Zero Division Error\")\n",
    "except IndexError:\n",
    "    print(\"Index Error\")\n",
    "except NameError:\n",
    "    print(\"Name is not define\")\n",
    "    \n",
    "print(\"logic-3\")\n",
    "print(\"logic-4\")"
   ]
  },
  {
   "cell_type": "code",
   "execution_count": 18,
   "metadata": {},
   "outputs": [
    {
     "name": "stdout",
     "output_type": "stream",
     "text": [
      "logic-1\n",
      "logic-2\n",
      "2.5\n",
      "1\n",
      "Some thing is wrong\n",
      "logic-3\n",
      "logic-4\n"
     ]
    }
   ],
   "source": [
    "print(\"logic-1\")\n",
    "print(\"logic-2\")\n",
    "\n",
    "li : list[int] = [1,2,3]\n",
    "\n",
    "try:\n",
    "    print(5/2)\n",
    "    print(li[0])\n",
    "    # print(xyz) # Error\n",
    "    open(\"aaa.txt\") # Error\n",
    "    \n",
    "except ZeroDivisionError:\n",
    "    print(\"Zero Division Error\")\n",
    "except IndexError:\n",
    "    print(\"Index Error\")\n",
    "except NameError:\n",
    "    print(\"Name is not define\")\n",
    "except:\n",
    "    print(\"Some thing is wrong\")\n",
    "    \n",
    "print(\"logic-3\")\n",
    "print(\"logic-4\")"
   ]
  },
  {
   "cell_type": "code",
   "execution_count": 26,
   "metadata": {},
   "outputs": [
    {
     "name": "stdout",
     "output_type": "stream",
     "text": [
      "Some thing is wrong!\n",
      " list index out of range\n"
     ]
    }
   ],
   "source": [
    "try:\n",
    "    print(li[100])\n",
    "except Exception as e:\n",
    "    print(f\"Some thing is wrong!\\n {e}\")"
   ]
  },
  {
   "cell_type": "code",
   "execution_count": 47,
   "metadata": {},
   "outputs": [
    {
     "name": "stdout",
     "output_type": "stream",
     "text": [
      "Kazim 1 20\n"
     ]
    }
   ],
   "source": [
    "class StudentCard():\n",
    "    def __init__(self, roll_no:int, name:str, age:int) -> None:\n",
    "        if age < 18 or age > 60:\n",
    "            raise StudentAgeError(\"You'r not Eligible for this Program\")\n",
    "        self.roll_no = roll_no\n",
    "        self.name = name\n",
    "        self.age = age\n",
    "            \n",
    "            \n",
    "class StudentAgeError(Exception): # custom error class\n",
    "    pass\n",
    "\n",
    "student = StudentCard(1, \"Kazim\", 20)\n",
    "\n",
    "print(student.name, student.roll_no, student.age)"
   ]
  },
  {
   "cell_type": "code",
   "execution_count": 48,
   "metadata": {},
   "outputs": [
    {
     "ename": "StudentAgeError",
     "evalue": "You'r not Eligible for this Program",
     "output_type": "error",
     "traceback": [
      "\u001b[1;31m---------------------------------------------------------------------------\u001b[0m",
      "\u001b[1;31mStudentAgeError\u001b[0m                           Traceback (most recent call last)",
      "\u001b[1;32me:\\PIAIC\\Python Crash Course with Piaic\\Chpter-9\\class12-(Error_&_File_Handeling)\\class12.ipynb Cell 7\u001b[0m line \u001b[0;36m1\n\u001b[1;32m----> <a href='vscode-notebook-cell:/e%3A/PIAIC/Python%20Crash%20Course%20with%20Piaic/Chpter-9/class12-%28Error_%26_File_Handeling%29/class12.ipynb#X11sZmlsZQ%3D%3D?line=0'>1</a>\u001b[0m student \u001b[39m=\u001b[39m StudentCard(\u001b[39m1\u001b[39;49m, \u001b[39m\"\u001b[39;49m\u001b[39mKazim\u001b[39;49m\u001b[39m\"\u001b[39;49m, \u001b[39m17\u001b[39;49m)\n\u001b[0;32m      <a href='vscode-notebook-cell:/e%3A/PIAIC/Python%20Crash%20Course%20with%20Piaic/Chpter-9/class12-%28Error_%26_File_Handeling%29/class12.ipynb#X11sZmlsZQ%3D%3D?line=2'>3</a>\u001b[0m \u001b[39mprint\u001b[39m(student\u001b[39m.\u001b[39mname, student\u001b[39m.\u001b[39mroll_no, student\u001b[39m.\u001b[39mage)\n",
      "\u001b[1;32me:\\PIAIC\\Python Crash Course with Piaic\\Chpter-9\\class12-(Error_&_File_Handeling)\\class12.ipynb Cell 7\u001b[0m line \u001b[0;36m4\n\u001b[0;32m      <a href='vscode-notebook-cell:/e%3A/PIAIC/Python%20Crash%20Course%20with%20Piaic/Chpter-9/class12-%28Error_%26_File_Handeling%29/class12.ipynb#X11sZmlsZQ%3D%3D?line=1'>2</a>\u001b[0m \u001b[39mdef\u001b[39;00m \u001b[39m__init__\u001b[39m(\u001b[39mself\u001b[39m, roll_no:\u001b[39mint\u001b[39m, name:\u001b[39mstr\u001b[39m, age:\u001b[39mint\u001b[39m) \u001b[39m-\u001b[39m\u001b[39m>\u001b[39m \u001b[39mNone\u001b[39;00m:\n\u001b[0;32m      <a href='vscode-notebook-cell:/e%3A/PIAIC/Python%20Crash%20Course%20with%20Piaic/Chpter-9/class12-%28Error_%26_File_Handeling%29/class12.ipynb#X11sZmlsZQ%3D%3D?line=2'>3</a>\u001b[0m     \u001b[39mif\u001b[39;00m age \u001b[39m<\u001b[39m \u001b[39m18\u001b[39m \u001b[39mor\u001b[39;00m age \u001b[39m>\u001b[39m \u001b[39m60\u001b[39m:\n\u001b[1;32m----> <a href='vscode-notebook-cell:/e%3A/PIAIC/Python%20Crash%20Course%20with%20Piaic/Chpter-9/class12-%28Error_%26_File_Handeling%29/class12.ipynb#X11sZmlsZQ%3D%3D?line=3'>4</a>\u001b[0m         \u001b[39mraise\u001b[39;00m StudentAgeError(\u001b[39m\"\u001b[39m\u001b[39mYou\u001b[39m\u001b[39m'\u001b[39m\u001b[39mr not Eligible for this Program\u001b[39m\u001b[39m\"\u001b[39m)\n\u001b[0;32m      <a href='vscode-notebook-cell:/e%3A/PIAIC/Python%20Crash%20Course%20with%20Piaic/Chpter-9/class12-%28Error_%26_File_Handeling%29/class12.ipynb#X11sZmlsZQ%3D%3D?line=4'>5</a>\u001b[0m     \u001b[39mself\u001b[39m\u001b[39m.\u001b[39mroll_no \u001b[39m=\u001b[39m roll_no\n\u001b[0;32m      <a href='vscode-notebook-cell:/e%3A/PIAIC/Python%20Crash%20Course%20with%20Piaic/Chpter-9/class12-%28Error_%26_File_Handeling%29/class12.ipynb#X11sZmlsZQ%3D%3D?line=5'>6</a>\u001b[0m     \u001b[39mself\u001b[39m\u001b[39m.\u001b[39mname \u001b[39m=\u001b[39m name\n",
      "\u001b[1;31mStudentAgeError\u001b[0m: You'r not Eligible for this Program"
     ]
    }
   ],
   "source": [
    "student = StudentCard(1, \"Kazim\", 17)\n",
    "\n",
    "print(student.name, student.roll_no, student.age)"
   ]
  },
  {
   "cell_type": "markdown",
   "metadata": {},
   "source": [
    "# File Handling\n",
    "https://www.geeksforgeeks.org/reading-writing-text-files-python/\n",
    "<img src=\"https://net-informations.com/python/file/img/modes.png\">"
   ]
  },
  {
   "cell_type": "code",
   "execution_count": 2,
   "metadata": {},
   "outputs": [
    {
     "data": {
      "text/plain": [
       "<_io.TextIOWrapper name='abc.txt' mode='r' encoding='cp1252'>"
      ]
     },
     "execution_count": 2,
     "metadata": {},
     "output_type": "execute_result"
    }
   ],
   "source": [
    "open(\"abc.txt\")"
   ]
  },
  {
   "cell_type": "code",
   "execution_count": 5,
   "metadata": {},
   "outputs": [
    {
     "data": {
      "text/plain": [
       "<_io.TextIOWrapper name='abc.txt' mode='r' encoding='cp1252'>"
      ]
     },
     "execution_count": 5,
     "metadata": {},
     "output_type": "execute_result"
    }
   ],
   "source": [
    "data = open(\"abc.txt\")\n",
    "data"
   ]
  },
  {
   "cell_type": "code",
   "execution_count": 6,
   "metadata": {},
   "outputs": [
    {
     "data": {
      "text/plain": [
       "['_CHUNK_SIZE',\n",
       " '_checkClosed',\n",
       " '_checkReadable',\n",
       " '_checkSeekable',\n",
       " '_checkWritable',\n",
       " '_finalizing',\n",
       " 'buffer',\n",
       " 'close',\n",
       " 'closed',\n",
       " 'detach',\n",
       " 'encoding',\n",
       " 'errors',\n",
       " 'fileno',\n",
       " 'flush',\n",
       " 'isatty',\n",
       " 'line_buffering',\n",
       " 'mode',\n",
       " 'name',\n",
       " 'newlines',\n",
       " 'read',\n",
       " 'readable',\n",
       " 'readline',\n",
       " 'readlines',\n",
       " 'reconfigure',\n",
       " 'seek',\n",
       " 'seekable',\n",
       " 'tell',\n",
       " 'truncate',\n",
       " 'writable',\n",
       " 'write',\n",
       " 'write_through',\n",
       " 'writelines']"
      ]
     },
     "execution_count": 6,
     "metadata": {},
     "output_type": "execute_result"
    }
   ],
   "source": [
    "[i for i in dir(data) if \"__\" not in i]"
   ]
  },
  {
   "cell_type": "code",
   "execution_count": 7,
   "metadata": {},
   "outputs": [
    {
     "data": {
      "text/plain": [
       "_io.TextIOWrapper"
      ]
     },
     "execution_count": 7,
     "metadata": {},
     "output_type": "execute_result"
    }
   ],
   "source": [
    "type(data)"
   ]
  },
  {
   "cell_type": "markdown",
   "metadata": {},
   "source": [
    "# Connectivity with abc.txt file"
   ]
  },
  {
   "cell_type": "code",
   "execution_count": 9,
   "metadata": {},
   "outputs": [
    {
     "name": "stdout",
     "output_type": "stream",
     "text": [
      "line1\n",
      "line2\n"
     ]
    }
   ],
   "source": [
    "from typing import TextIO\n",
    "\n",
    "data: TextIO = open(\"abc.txt\") # Connectivity with abc.txt file\n",
    "print(data.read())"
   ]
  },
  {
   "cell_type": "code",
   "execution_count": 29,
   "metadata": {},
   "outputs": [
    {
     "name": "stdout",
     "output_type": "stream",
     "text": [
      "line1\n",
      "line2\n",
      "line3\n",
      "line4\n",
      "line5\n"
     ]
    }
   ],
   "source": [
    "from typing import TextIO\n",
    "\n",
    "data: TextIO = open(\"abc.txt\") # Connectivity with abc.txt file\n",
    "print(data.read())\n",
    "\n",
    "data.close() # Close Connectivity"
   ]
  },
  {
   "cell_type": "code",
   "execution_count": 23,
   "metadata": {},
   "outputs": [
    {
     "name": "stdout",
     "output_type": "stream",
     "text": [
      "<class '_io.TextIOWrapper'>\n",
      "line1\n",
      "line2\n",
      "line3\n"
     ]
    }
   ],
   "source": [
    "with open(\"abc.txt\") as file: # type: TextIO\n",
    "    print(type(file))\n",
    "    print(file.readline(), end=\"\") # Readline read only one line(first line) \n",
    "    print(file.readline(), end=\"\")\n",
    "    print(file.readline(), end=\"\")"
   ]
  },
  {
   "cell_type": "code",
   "execution_count": 26,
   "metadata": {},
   "outputs": [
    {
     "name": "stdout",
     "output_type": "stream",
     "text": [
      "<class '_io.TextIOWrapper'>\n",
      "['line1\\n', 'line2\\n', 'line3\\n', 'line4\\n', 'line5']\n"
     ]
    }
   ],
   "source": [
    "with open(\"abc.txt\") as file: # type: TextIO\n",
    "    print(type(file))\n",
    "    print(file.readlines()) # Readlines read all line at a time with backslash \\n"
   ]
  },
  {
   "cell_type": "code",
   "execution_count": 28,
   "metadata": {},
   "outputs": [
    {
     "name": "stdout",
     "output_type": "stream",
     "text": [
      "<class '_io.TextIOWrapper'>\n",
      "['line1\\n', 'line2\\n', 'line3\\n']\n"
     ]
    }
   ],
   "source": [
    "with open(\"abc.txt\") as file: # type: TextIO\n",
    "    print(type(file))\n",
    "    print(file.readlines()[:3]) # Readlines with Slice Method"
   ]
  },
  {
   "cell_type": "code",
   "execution_count": 30,
   "metadata": {},
   "outputs": [
    {
     "name": "stdout",
     "output_type": "stream",
     "text": [
      "<class '_io.TextIOWrapper'>\n",
      "['line1\\n', 'line2\\n', 'line3\\n']\n"
     ]
    }
   ],
   "source": [
    "with open(\"abc.txt\", 'r') as file: # type: TextIO\n",
    "    print(type(file))\n",
    "    print(file.readlines()[:3]) "
   ]
  },
  {
   "cell_type": "code",
   "execution_count": 56,
   "metadata": {},
   "outputs": [
    {
     "name": "stdout",
     "output_type": "stream",
     "text": [
      "line1\n",
      "line2\n",
      "line3\n",
      "line4\n",
      "line5\n"
     ]
    },
    {
     "ename": "UnsupportedOperation",
     "evalue": "not writable",
     "output_type": "error",
     "traceback": [
      "\u001b[1;31m---------------------------------------------------------------------------\u001b[0m",
      "\u001b[1;31mUnsupportedOperation\u001b[0m                      Traceback (most recent call last)",
      "\u001b[1;32me:\\PIAIC\\Python Crash Course with Piaic\\Chpter-9\\class12-(Error_&_File_Handeling)\\class12.ipynb Cell 20\u001b[0m line \u001b[0;36m3\n\u001b[0;32m      <a href='vscode-notebook-cell:/e%3A/PIAIC/Python%20Crash%20Course%20with%20Piaic/Chpter-9/class12-%28Error_%26_File_Handeling%29/class12.ipynb#X31sZmlsZQ%3D%3D?line=0'>1</a>\u001b[0m \u001b[39mwith\u001b[39;00m \u001b[39mopen\u001b[39m(\u001b[39m\"\u001b[39m\u001b[39mabc.txt\u001b[39m\u001b[39m\"\u001b[39m, \u001b[39m'\u001b[39m\u001b[39mr\u001b[39m\u001b[39m'\u001b[39m) \u001b[39mas\u001b[39;00m file: \u001b[39m# type: TextIO\u001b[39;00m\n\u001b[0;32m      <a href='vscode-notebook-cell:/e%3A/PIAIC/Python%20Crash%20Course%20with%20Piaic/Chpter-9/class12-%28Error_%26_File_Handeling%29/class12.ipynb#X31sZmlsZQ%3D%3D?line=1'>2</a>\u001b[0m     \u001b[39mprint\u001b[39m(file\u001b[39m.\u001b[39mread()) \n\u001b[1;32m----> <a href='vscode-notebook-cell:/e%3A/PIAIC/Python%20Crash%20Course%20with%20Piaic/Chpter-9/class12-%28Error_%26_File_Handeling%29/class12.ipynb#X31sZmlsZQ%3D%3D?line=2'>3</a>\u001b[0m     file\u001b[39m.\u001b[39;49mwrite(\u001b[39m\"\u001b[39;49m\u001b[39mPakistan Zindabad\u001b[39;49m\u001b[39m\"\u001b[39;49m)\n",
      "\u001b[1;31mUnsupportedOperation\u001b[0m: not writable"
     ]
    }
   ],
   "source": [
    "with open(\"abc.txt\", 'r') as file: # type: TextIO\n",
    "    print(file.read()) \n",
    "    file.write(\"Pakistan Zindabad\")\n"
   ]
  },
  {
   "cell_type": "code",
   "execution_count": 57,
   "metadata": {},
   "outputs": [
    {
     "ename": "UnsupportedOperation",
     "evalue": "not readable",
     "output_type": "error",
     "traceback": [
      "\u001b[1;31m---------------------------------------------------------------------------\u001b[0m",
      "\u001b[1;31mUnsupportedOperation\u001b[0m                      Traceback (most recent call last)",
      "\u001b[1;32me:\\PIAIC\\Python Crash Course with Piaic\\Chpter-9\\class12-(Error_&_File_Handeling)\\class12.ipynb Cell 21\u001b[0m line \u001b[0;36m2\n\u001b[0;32m      <a href='vscode-notebook-cell:/e%3A/PIAIC/Python%20Crash%20Course%20with%20Piaic/Chpter-9/class12-%28Error_%26_File_Handeling%29/class12.ipynb#X32sZmlsZQ%3D%3D?line=0'>1</a>\u001b[0m \u001b[39mwith\u001b[39;00m \u001b[39mopen\u001b[39m(\u001b[39m\"\u001b[39m\u001b[39mabc.txt\u001b[39m\u001b[39m\"\u001b[39m, \u001b[39m'\u001b[39m\u001b[39mw\u001b[39m\u001b[39m'\u001b[39m) \u001b[39mas\u001b[39;00m file: \u001b[39m# type: TextIO\u001b[39;00m\n\u001b[1;32m----> <a href='vscode-notebook-cell:/e%3A/PIAIC/Python%20Crash%20Course%20with%20Piaic/Chpter-9/class12-%28Error_%26_File_Handeling%29/class12.ipynb#X32sZmlsZQ%3D%3D?line=1'>2</a>\u001b[0m     \u001b[39mprint\u001b[39m(file\u001b[39m.\u001b[39;49mread()) \n\u001b[0;32m      <a href='vscode-notebook-cell:/e%3A/PIAIC/Python%20Crash%20Course%20with%20Piaic/Chpter-9/class12-%28Error_%26_File_Handeling%29/class12.ipynb#X32sZmlsZQ%3D%3D?line=2'>3</a>\u001b[0m     file\u001b[39m.\u001b[39mwrite(\u001b[39m\"\u001b[39m\u001b[39mPakistan Zindabad\u001b[39m\u001b[39m\"\u001b[39m)\n",
      "\u001b[1;31mUnsupportedOperation\u001b[0m: not readable"
     ]
    }
   ],
   "source": [
    "with open(\"abc.txt\", 'w') as file: # type: TextIO\n",
    "    print(file.read()) \n",
    "    file.write(\"Pakistan Zindabad\")\n"
   ]
  },
  {
   "cell_type": "code",
   "execution_count": 76,
   "metadata": {},
   "outputs": [],
   "source": [
    "with open(\"abc1.txt\", 'w') as file: # type: TextIO\n",
    "    file.write(\"Pakistan Zindabad\")\n"
   ]
  },
  {
   "cell_type": "code",
   "execution_count": 77,
   "metadata": {},
   "outputs": [
    {
     "name": "stdout",
     "output_type": "stream",
     "text": [
      "Pakistan Zindabad\n"
     ]
    }
   ],
   "source": [
    "with open(\"abc1.txt\", 'r+') as file: # type: TextIO\n",
    "    print(file.read())\n",
    "    file.write(\"We love our country!\")\n"
   ]
  },
  {
   "cell_type": "code",
   "execution_count": 78,
   "metadata": {},
   "outputs": [
    {
     "name": "stdout",
     "output_type": "stream",
     "text": [
      "love out country!\n"
     ]
    }
   ],
   "source": [
    "with open(\"abc1.txt\", 'r+') as file: # type: TextIO\n",
    "    file.write(\"We love our country!\")\n",
    "    print(file.read())\n"
   ]
  },
  {
   "cell_type": "code",
   "execution_count": 82,
   "metadata": {},
   "outputs": [
    {
     "name": "stdout",
     "output_type": "stream",
     "text": [
      "We love out country! love our country!\n",
      "After \n"
     ]
    }
   ],
   "source": [
    "with open(\"abc1.txt\", 'r+') as file: # type: TextIO\n",
    "    print(file.read())\n",
    "    \n",
    "    file.write(\"We love out country!\")\n",
    "    \n",
    "    print(\"After\",file.read())\n"
   ]
  },
  {
   "cell_type": "code",
   "execution_count": 83,
   "metadata": {},
   "outputs": [
    {
     "name": "stdout",
     "output_type": "stream",
     "text": [
      "We love out country! love our country!We love out country!\n",
      "After We love out country! love our country!We love out country!We love out country!\n"
     ]
    }
   ],
   "source": [
    "with open(\"abc1.txt\", 'r+') as file: # type: TextIO\n",
    "    print(file.read())\n",
    "    \n",
    "    file.write(\"We love out country!\")\n",
    "    file.seek(0)\n",
    "    \n",
    "    print(\"After\",file.read())\n"
   ]
  },
  {
   "cell_type": "markdown",
   "metadata": {},
   "source": [
    "# Now Change Modes"
   ]
  },
  {
   "cell_type": "code",
   "execution_count": 84,
   "metadata": {},
   "outputs": [
    {
     "ename": "FileNotFoundError",
     "evalue": "[Errno 2] No such file or directory: 'abc2.txt'",
     "output_type": "error",
     "traceback": [
      "\u001b[1;31m---------------------------------------------------------------------------\u001b[0m",
      "\u001b[1;31mFileNotFoundError\u001b[0m                         Traceback (most recent call last)",
      "\u001b[1;32me:\\PIAIC\\Python Crash Course with Piaic\\Chpter-9\\class12-(Error_&_File_Handeling)\\class12.ipynb Cell 28\u001b[0m line \u001b[0;36m1\n\u001b[1;32m----> <a href='vscode-notebook-cell:/e%3A/PIAIC/Python%20Crash%20Course%20with%20Piaic/Chpter-9/class12-%28Error_%26_File_Handeling%29/class12.ipynb#X44sZmlsZQ%3D%3D?line=0'>1</a>\u001b[0m \u001b[39mwith\u001b[39;00m \u001b[39mopen\u001b[39;49m(\u001b[39m\"\u001b[39;49m\u001b[39mabc2.txt\u001b[39;49m\u001b[39m\"\u001b[39;49m, \u001b[39m'\u001b[39;49m\u001b[39mr\u001b[39;49m\u001b[39m'\u001b[39;49m) \u001b[39mas\u001b[39;00m file: \u001b[39m# type: TextIO\u001b[39;00m\n\u001b[0;32m      <a href='vscode-notebook-cell:/e%3A/PIAIC/Python%20Crash%20Course%20with%20Piaic/Chpter-9/class12-%28Error_%26_File_Handeling%29/class12.ipynb#X44sZmlsZQ%3D%3D?line=1'>2</a>\u001b[0m     \u001b[39mprint\u001b[39m(file\u001b[39m.\u001b[39mread()) \n",
      "File \u001b[1;32m~\\AppData\\Roaming\\Python\\Python311\\site-packages\\IPython\\core\\interactiveshell.py:286\u001b[0m, in \u001b[0;36m_modified_open\u001b[1;34m(file, *args, **kwargs)\u001b[0m\n\u001b[0;32m    279\u001b[0m \u001b[39mif\u001b[39;00m file \u001b[39min\u001b[39;00m {\u001b[39m0\u001b[39m, \u001b[39m1\u001b[39m, \u001b[39m2\u001b[39m}:\n\u001b[0;32m    280\u001b[0m     \u001b[39mraise\u001b[39;00m \u001b[39mValueError\u001b[39;00m(\n\u001b[0;32m    281\u001b[0m         \u001b[39mf\u001b[39m\u001b[39m\"\u001b[39m\u001b[39mIPython won\u001b[39m\u001b[39m'\u001b[39m\u001b[39mt let you open fd=\u001b[39m\u001b[39m{\u001b[39;00mfile\u001b[39m}\u001b[39;00m\u001b[39m by default \u001b[39m\u001b[39m\"\u001b[39m\n\u001b[0;32m    282\u001b[0m         \u001b[39m\"\u001b[39m\u001b[39mas it is likely to crash IPython. If you know what you are doing, \u001b[39m\u001b[39m\"\u001b[39m\n\u001b[0;32m    283\u001b[0m         \u001b[39m\"\u001b[39m\u001b[39myou can use builtins\u001b[39m\u001b[39m'\u001b[39m\u001b[39m open.\u001b[39m\u001b[39m\"\u001b[39m\n\u001b[0;32m    284\u001b[0m     )\n\u001b[1;32m--> 286\u001b[0m \u001b[39mreturn\u001b[39;00m io_open(file, \u001b[39m*\u001b[39;49margs, \u001b[39m*\u001b[39;49m\u001b[39m*\u001b[39;49mkwargs)\n",
      "\u001b[1;31mFileNotFoundError\u001b[0m: [Errno 2] No such file or directory: 'abc2.txt'"
     ]
    }
   ],
   "source": [
    "with open(\"abc2.txt\", 'r') as file: # type: TextIO\n",
    "    print(file.read()) "
   ]
  },
  {
   "cell_type": "code",
   "execution_count": 96,
   "metadata": {},
   "outputs": [],
   "source": [
    "with open(\"abc2.txt\", 'w') as file: # type: TextIO\n",
    "    # print(file.read()) \n",
    "    file.write(\"Pakistan Zindabad\")\n",
    "    \n",
    "    # if file exist then it overwrite the text\n",
    "    # if file not exist then it will create new file\n"
   ]
  },
  {
   "cell_type": "code",
   "execution_count": 101,
   "metadata": {},
   "outputs": [],
   "source": [
    "with open(\"abc3.txt\", 'a') as file: # type: TextIO\n",
    "    # print(file.read()) \n",
    "    file.write(\"Pakistan\")\n",
    "\n",
    "    # if file not exist then it will create new file\n",
    "    # Add content is last "
   ]
  },
  {
   "cell_type": "code",
   "execution_count": 102,
   "metadata": {},
   "outputs": [],
   "source": [
    "with open(\"abc3.txt\", 'a') as file: # type: TextIO\n",
    "    # print(file.read()) \n",
    "    file.write(\"line2\")\n",
    "    \n",
    "    # if file not exist then it will create new file\n",
    "    # Add content is last \n"
   ]
  },
  {
   "cell_type": "code",
   "execution_count": 104,
   "metadata": {},
   "outputs": [],
   "source": [
    "with open(\"abc4.txt\", 'x') as file: # type: TextIO\n",
    "    # print(file.read()) \n",
    "    file.write(\"line3\")\n",
    "    \n",
    "    # if file not exist then it will create new file\n"
   ]
  },
  {
   "cell_type": "code",
   "execution_count": 105,
   "metadata": {},
   "outputs": [
    {
     "ename": "FileExistsError",
     "evalue": "[Errno 17] File exists: 'abc4.txt'",
     "output_type": "error",
     "traceback": [
      "\u001b[1;31m---------------------------------------------------------------------------\u001b[0m",
      "\u001b[1;31mFileExistsError\u001b[0m                           Traceback (most recent call last)",
      "\u001b[1;32me:\\PIAIC\\Python Crash Course with Piaic\\Chpter-9\\class12-(Error_&_File_Handeling)\\class12.ipynb Cell 33\u001b[0m line \u001b[0;36m1\n\u001b[1;32m----> <a href='vscode-notebook-cell:/e%3A/PIAIC/Python%20Crash%20Course%20with%20Piaic/Chpter-9/class12-%28Error_%26_File_Handeling%29/class12.ipynb#X51sZmlsZQ%3D%3D?line=0'>1</a>\u001b[0m \u001b[39mwith\u001b[39;00m \u001b[39mopen\u001b[39;49m(\u001b[39m\"\u001b[39;49m\u001b[39mabc4.txt\u001b[39;49m\u001b[39m\"\u001b[39;49m, \u001b[39m'\u001b[39;49m\u001b[39mx\u001b[39;49m\u001b[39m'\u001b[39;49m) \u001b[39mas\u001b[39;00m file: \u001b[39m# type: TextIO\u001b[39;00m\n\u001b[0;32m      <a href='vscode-notebook-cell:/e%3A/PIAIC/Python%20Crash%20Course%20with%20Piaic/Chpter-9/class12-%28Error_%26_File_Handeling%29/class12.ipynb#X51sZmlsZQ%3D%3D?line=1'>2</a>\u001b[0m     \u001b[39m# print(file.read()) \u001b[39;00m\n\u001b[0;32m      <a href='vscode-notebook-cell:/e%3A/PIAIC/Python%20Crash%20Course%20with%20Piaic/Chpter-9/class12-%28Error_%26_File_Handeling%29/class12.ipynb#X51sZmlsZQ%3D%3D?line=2'>3</a>\u001b[0m     file\u001b[39m.\u001b[39mwrite(\u001b[39m\"\u001b[39m\u001b[39mline4\u001b[39m\u001b[39m\"\u001b[39m)\n\u001b[0;32m      <a href='vscode-notebook-cell:/e%3A/PIAIC/Python%20Crash%20Course%20with%20Piaic/Chpter-9/class12-%28Error_%26_File_Handeling%29/class12.ipynb#X51sZmlsZQ%3D%3D?line=4'>5</a>\u001b[0m     \u001b[39m# if file not exist then it will create new file\u001b[39;00m\n",
      "File \u001b[1;32m~\\AppData\\Roaming\\Python\\Python311\\site-packages\\IPython\\core\\interactiveshell.py:286\u001b[0m, in \u001b[0;36m_modified_open\u001b[1;34m(file, *args, **kwargs)\u001b[0m\n\u001b[0;32m    279\u001b[0m \u001b[39mif\u001b[39;00m file \u001b[39min\u001b[39;00m {\u001b[39m0\u001b[39m, \u001b[39m1\u001b[39m, \u001b[39m2\u001b[39m}:\n\u001b[0;32m    280\u001b[0m     \u001b[39mraise\u001b[39;00m \u001b[39mValueError\u001b[39;00m(\n\u001b[0;32m    281\u001b[0m         \u001b[39mf\u001b[39m\u001b[39m\"\u001b[39m\u001b[39mIPython won\u001b[39m\u001b[39m'\u001b[39m\u001b[39mt let you open fd=\u001b[39m\u001b[39m{\u001b[39;00mfile\u001b[39m}\u001b[39;00m\u001b[39m by default \u001b[39m\u001b[39m\"\u001b[39m\n\u001b[0;32m    282\u001b[0m         \u001b[39m\"\u001b[39m\u001b[39mas it is likely to crash IPython. If you know what you are doing, \u001b[39m\u001b[39m\"\u001b[39m\n\u001b[0;32m    283\u001b[0m         \u001b[39m\"\u001b[39m\u001b[39myou can use builtins\u001b[39m\u001b[39m'\u001b[39m\u001b[39m open.\u001b[39m\u001b[39m\"\u001b[39m\n\u001b[0;32m    284\u001b[0m     )\n\u001b[1;32m--> 286\u001b[0m \u001b[39mreturn\u001b[39;00m io_open(file, \u001b[39m*\u001b[39;49margs, \u001b[39m*\u001b[39;49m\u001b[39m*\u001b[39;49mkwargs)\n",
      "\u001b[1;31mFileExistsError\u001b[0m: [Errno 17] File exists: 'abc4.txt'"
     ]
    }
   ],
   "source": [
    "with open(\"abc4.txt\", 'x') as file: # type: TextIO\n",
    "    # print(file.read()) \n",
    "    file.write(\"line4\")\n",
    "    \n",
    "    # if file not exist then it will create new file\n"
   ]
  },
  {
   "cell_type": "code",
   "execution_count": 106,
   "metadata": {},
   "outputs": [
    {
     "name": "stdout",
     "output_type": "stream",
     "text": [
      "b'line3'\n"
     ]
    }
   ],
   "source": [
    "with open(\"abc4.txt\", 'rb+') as file: # type: TextIO\n",
    "    print(file.read()) \n",
    "    # file.write(\"line4\")"
   ]
  },
  {
   "cell_type": "markdown",
   "metadata": {},
   "source": [
    "<table class=\"s-table\">\n",
    "    <thead>\n",
    "    <tr>\n",
    "    <th style=\"text-align: center;\">Mode</th>\n",
    "    <th style=\"text-align: center;\">r</th>\n",
    "    <th style=\"text-align: center;\">r+</th>\n",
    "    <th style=\"text-align: center;\">w</th>\n",
    "    <th style=\"text-align: center;\">w+</th>\n",
    "    <th style=\"text-align: center;\">a</th>\n",
    "    <th style=\"text-align: center;\">a+</th>\n",
    "    </tr>\n",
    "    </thead>\n",
    "    <tbody>\n",
    "    <tr>\n",
    "    <td style=\"text-align: center;\">Read</td>\n",
    "    <td style=\"text-align: center;\">+</td>\n",
    "    <td style=\"text-align: center;\">+</td>\n",
    "    <td style=\"text-align: center;\"></td>\n",
    "    <td style=\"text-align: center;\">+</td>\n",
    "    <td style=\"text-align: center;\"></td>\n",
    "    <td style=\"text-align: center;\">+</td>\n",
    "    </tr>\n",
    "    <tr>\n",
    "    <td style=\"text-align: center;\">Write</td>\n",
    "    <td style=\"text-align: center;\"></td>\n",
    "    <td style=\"text-align: center;\">+</td>\n",
    "    <td style=\"text-align: center;\">+</td>\n",
    "    <td style=\"text-align: center;\">+</td>\n",
    "    <td style=\"text-align: center;\">+</td>\n",
    "    <td style=\"text-align: center;\">+</td>\n",
    "    </tr>\n",
    "    <tr>\n",
    "    <td style=\"text-align: center;\">Create</td>\n",
    "    <td style=\"text-align: center;\"></td>\n",
    "    <td style=\"text-align: center;\"></td>\n",
    "    <td style=\"text-align: center;\">+</td>\n",
    "    <td style=\"text-align: center;\">+</td>\n",
    "    <td style=\"text-align: center;\">+</td>\n",
    "    <td style=\"text-align: center;\">+</td>\n",
    "    </tr>\n",
    "    <tr>\n",
    "    <td style=\"text-align: center;\">Cover</td>\n",
    "    <td style=\"text-align: center;\"></td>\n",
    "    <td style=\"text-align: center;\"></td>\n",
    "    <td style=\"text-align: center;\">+</td>\n",
    "    <td style=\"text-align: center;\">+</td>\n",
    "    <td style=\"text-align: center;\"></td>\n",
    "    <td style=\"text-align: center;\"></td>\n",
    "    </tr>\n",
    "    <tr>\n",
    "    <td style=\"text-align: center;\">Point in the beginning</td>\n",
    "    <td style=\"text-align: center;\">+</td>\n",
    "    <td style=\"text-align: center;\">+</td>\n",
    "    <td style=\"text-align: center;\">+</td>\n",
    "    <td style=\"text-align: center;\">+</td>\n",
    "    <td style=\"text-align: center;\"></td>\n",
    "    <td style=\"text-align: center;\"></td>\n",
    "    </tr>\n",
    "    <tr>\n",
    "    <td style=\"text-align: center;\">Point in the end</td>\n",
    "    <td style=\"text-align: center;\"></td>\n",
    "    <td style=\"text-align: center;\"></td>\n",
    "    <td style=\"text-align: center;\"></td>\n",
    "    <td style=\"text-align: center;\"></td>\n",
    "    <td style=\"text-align: center;\">+</td>\n",
    "    <td style=\"text-align: center;\">+</td>\n",
    "    </tr>\n",
    "    </tbody>\n",
    "    </table>"
   ]
  },
  {
   "cell_type": "markdown",
   "metadata": {},
   "source": [
    "# Read Some Real World Data File\n",
    "* image\n",
    "* csv\n",
    "* live camera"
   ]
  },
  {
   "cell_type": "code",
   "execution_count": 109,
   "metadata": {},
   "outputs": [
    {
     "data": {
      "text/html": [
       "<div>\n",
       "<style scoped>\n",
       "    .dataframe tbody tr th:only-of-type {\n",
       "        vertical-align: middle;\n",
       "    }\n",
       "\n",
       "    .dataframe tbody tr th {\n",
       "        vertical-align: top;\n",
       "    }\n",
       "\n",
       "    .dataframe thead th {\n",
       "        text-align: right;\n",
       "    }\n",
       "</style>\n",
       "<table border=\"1\" class=\"dataframe\">\n",
       "  <thead>\n",
       "    <tr style=\"text-align: right;\">\n",
       "      <th></th>\n",
       "      <th>id</th>\n",
       "      <th>name</th>\n",
       "      <th>education</th>\n",
       "    </tr>\n",
       "  </thead>\n",
       "  <tbody>\n",
       "    <tr>\n",
       "      <th>0</th>\n",
       "      <td>1</td>\n",
       "      <td>\"Kazim\"</td>\n",
       "      <td>\"ICS</td>\n",
       "    </tr>\n",
       "    <tr>\n",
       "      <th>1</th>\n",
       "      <td>2</td>\n",
       "      <td>\"Hamza\"</td>\n",
       "      <td>\"ICS\"</td>\n",
       "    </tr>\n",
       "    <tr>\n",
       "      <th>2</th>\n",
       "      <td>3</td>\n",
       "      <td>\"Tayyab\"</td>\n",
       "      <td>\"Master\"</td>\n",
       "    </tr>\n",
       "  </tbody>\n",
       "</table>\n",
       "</div>"
      ],
      "text/plain": [
       "   id       name  education\n",
       "0   1    \"Kazim\"       \"ICS\n",
       "1   2    \"Hamza\"      \"ICS\"\n",
       "2   3   \"Tayyab\"   \"Master\""
      ]
     },
     "execution_count": 109,
     "metadata": {},
     "output_type": "execute_result"
    }
   ],
   "source": [
    "import pandas as pd\n",
    "\n",
    "df : pd.DataFrame = pd.read_csv(\"./data.csv\")\n",
    "\n",
    "df"
   ]
  },
  {
   "cell_type": "code",
   "execution_count": 112,
   "metadata": {},
   "outputs": [
    {
     "data": {
      "text/html": [
       "<div>\n",
       "<style scoped>\n",
       "    .dataframe tbody tr th:only-of-type {\n",
       "        vertical-align: middle;\n",
       "    }\n",
       "\n",
       "    .dataframe tbody tr th {\n",
       "        vertical-align: top;\n",
       "    }\n",
       "\n",
       "    .dataframe thead th {\n",
       "        text-align: right;\n",
       "    }\n",
       "</style>\n",
       "<table border=\"1\" class=\"dataframe\">\n",
       "  <thead>\n",
       "    <tr style=\"text-align: right;\">\n",
       "      <th></th>\n",
       "      <th>1</th>\n",
       "      <th>Kazim</th>\n",
       "      <th>ICS</th>\n",
       "    </tr>\n",
       "  </thead>\n",
       "  <tbody>\n",
       "    <tr>\n",
       "      <th>0</th>\n",
       "      <td>2</td>\n",
       "      <td>Hamza</td>\n",
       "      <td>Master</td>\n",
       "    </tr>\n",
       "    <tr>\n",
       "      <th>1</th>\n",
       "      <td>3</td>\n",
       "      <td>Tayyab</td>\n",
       "      <td>Master</td>\n",
       "    </tr>\n",
       "    <tr>\n",
       "      <th>2</th>\n",
       "      <td>4</td>\n",
       "      <td>Zabi</td>\n",
       "      <td>ICS</td>\n",
       "    </tr>\n",
       "  </tbody>\n",
       "</table>\n",
       "</div>"
      ],
      "text/plain": [
       "   1  Kazim      ICS\n",
       "0  2   Hamza  Master\n",
       "1  3  Tayyab  Master\n",
       "2  4    Zabi     ICS"
      ]
     },
     "execution_count": 112,
     "metadata": {},
     "output_type": "execute_result"
    }
   ],
   "source": [
    "import pandas as pd\n",
    "\n",
    "df : pd.DataFrame = pd.read_excel(\"./DemoData.xlsx\")\n",
    "\n",
    "df"
   ]
  },
  {
   "cell_type": "code",
   "execution_count": 111,
   "metadata": {},
   "outputs": [
    {
     "name": "stdout",
     "output_type": "stream",
     "text": [
      "Collecting openpyxl\n",
      "  Downloading openpyxl-3.1.2-py2.py3-none-any.whl (249 kB)\n",
      "     ------------------------------------ 250.0/250.0 kB 365.5 kB/s eta 0:00:00\n",
      "Collecting et-xmlfile\n",
      "  Downloading et_xmlfile-1.1.0-py3-none-any.whl (4.7 kB)\n",
      "Installing collected packages: et-xmlfile, openpyxl\n",
      "Successfully installed et-xmlfile-1.1.0 openpyxl-3.1.2\n"
     ]
    },
    {
     "name": "stderr",
     "output_type": "stream",
     "text": [
      "\n",
      "[notice] A new release of pip available: 22.3.1 -> 23.3.1\n",
      "[notice] To update, run: python.exe -m pip install --upgrade pip\n"
     ]
    }
   ],
   "source": [
    "!pip install openpyxl"
   ]
  },
  {
   "cell_type": "code",
   "execution_count": 1,
   "metadata": {},
   "outputs": [
    {
     "data": {
      "text/plain": [
       "<matplotlib.image.AxesImage at 0x2518be4bfd0>"
      ]
     },
     "execution_count": 1,
     "metadata": {},
     "output_type": "execute_result"
    },
    {
     "data": {
      "image/png": "[encoded data removed]",
      "text/plain": [
       "<Figure size 640x480 with 1 Axes>"
      ]
     },
     "metadata": {},
     "output_type": "display_data"
    }
   ],
   "source": [
    "import matplotlib.pyplot as plt\n",
    "import matplotlib.image as mpimg\n",
    "\n",
    "img = mpimg.imread(\"./img.png\") # convert into numpy error\n",
    "\n",
    "plt.imshow(img) "
   ]
  },
  {
   "cell_type": "code",
   "execution_count": 2,
   "metadata": {},
   "outputs": [
    {
     "name": "stdout",
     "output_type": "stream",
     "text": [
      "Collecting PyPDF2\n",
      "  Downloading pypdf2-3.0.1-py3-none-any.whl (232 kB)\n",
      "     ------------------------------------ 232.6/232.6 kB 791.2 kB/s eta 0:00:00\n",
      "Installing collected packages: PyPDF2\n",
      "Successfully installed PyPDF2-3.0.1\n"
     ]
    },
    {
     "name": "stderr",
     "output_type": "stream",
     "text": [
      "\n",
      "[notice] A new release of pip available: 22.3.1 -> 23.3.1\n",
      "[notice] To update, run: python.exe -m pip install --upgrade pip\n"
     ]
    }
   ],
   "source": [
    "!pip install PyPDF2"
   ]
  },
  {
   "cell_type": "code",
   "execution_count": 13,
   "metadata": {},
   "outputs": [
    {
     "data": {
      "text/plain": [
       "['Nextjs 13\\nTailwind\\nVideo Editing\\nGraphic Designing \\nMicrosoft 360\\nFront-end DevelopmentKazimHussain\\nEducation\\nWork Experience\\nContact MeAbout meExpertise SkillWeb Developer\\nHi, I’m a Kazim Hussain. I have been\\nworking as a web developer since 2021. I\\nam also working on Graphic Design and\\nData Entry. I have Experience working on\\nHTML, CSS & and JavaScript respectively.\\nMy Expertise is in Web Development &\\nGraphic Designing 2018-2020\\nSenior Front-End Developer\\nSenior Graphic Designer2020-2022Matriculation of Computer\\nScience Teps School Okara\\n2021-2022\\n2020-20221 Year Experience in Front-End\\nwith Nextjs 13 & Tailwind\\n6 Month Experience in HTML,\\nCSS & JavaScript\\n2 Year Experience in Graphic\\nDesigning \\n6 Month Experience in TeachingICS of Post Graduate Collage\\nOkara\\n+923114890967\\nkazimofficial347@gmail.com\\nSirki Muhala, Street no 3, Okara']"
      ]
     },
     "execution_count": 13,
     "metadata": {},
     "output_type": "execute_result"
    }
   ],
   "source": [
    "from typing import List\n",
    "import PyPDF2\n",
    "\n",
    "def read_pdf(file_path: str) -> List[str]:\n",
    "    with open(file_path, 'rb') as file: # The 'b in 'rb stands for binary mode\n",
    "        reader: PyPDF2.PdfReader = PyPDF2.PdfReader(file)\n",
    "        text_content: List[str] = [page.extract_text() for page in reader.pages]\n",
    "        return text_content\n",
    "    \n",
    "pages = read_pdf(\"./Kazim Resume (2).pdf\")\n",
    "(pages)"
   ]
  },
  {
   "cell_type": "code",
   "execution_count": 14,
   "metadata": {},
   "outputs": [
    {
     "ename": "Error",
     "evalue": "file does not start with RIFF id",
     "output_type": "error",
     "traceback": [
      "\u001b[1;31m---------------------------------------------------------------------------\u001b[0m",
      "\u001b[1;31mError\u001b[0m                                     Traceback (most recent call last)",
      "\u001b[1;32me:\\PIAIC\\Python Crash Course with Piaic\\Chpter-9\\class12-(Error_&_File_Handeling)\\class12.ipynb Cell 43\u001b[0m line \u001b[0;36m6\n\u001b[0;32m      <a href='vscode-notebook-cell:/e%3A/PIAIC/Python%20Crash%20Course%20with%20Piaic/Chpter-9/class12-%28Error_%26_File_Handeling%29/class12.ipynb#Y102sZmlsZQ%3D%3D?line=2'>3</a>\u001b[0m \u001b[39mimport\u001b[39;00m \u001b[39mwave\u001b[39;00m\n\u001b[0;32m      <a href='vscode-notebook-cell:/e%3A/PIAIC/Python%20Crash%20Course%20with%20Piaic/Chpter-9/class12-%28Error_%26_File_Handeling%29/class12.ipynb#Y102sZmlsZQ%3D%3D?line=3'>4</a>\u001b[0m \u001b[39mimport\u001b[39;00m \u001b[39msys\u001b[39;00m\n\u001b[1;32m----> <a href='vscode-notebook-cell:/e%3A/PIAIC/Python%20Crash%20Course%20with%20Piaic/Chpter-9/class12-%28Error_%26_File_Handeling%29/class12.ipynb#Y102sZmlsZQ%3D%3D?line=5'>6</a>\u001b[0m audio_file \u001b[39m=\u001b[39m wave\u001b[39m.\u001b[39;49mopen(\u001b[39m\"\u001b[39;49m\u001b[39m./voice.mp3\u001b[39;49m\u001b[39m\"\u001b[39;49m)\n\u001b[0;32m      <a href='vscode-notebook-cell:/e%3A/PIAIC/Python%20Crash%20Course%20with%20Piaic/Chpter-9/class12-%28Error_%26_File_Handeling%29/class12.ipynb#Y102sZmlsZQ%3D%3D?line=6'>7</a>\u001b[0m signals \u001b[39m=\u001b[39m np\u001b[39m.\u001b[39mfrombuffer(signals, dtype\u001b[39m=\u001b[39mnp\u001b[39m.\u001b[39mint16)\n\u001b[0;32m      <a href='vscode-notebook-cell:/e%3A/PIAIC/Python%20Crash%20Course%20with%20Piaic/Chpter-9/class12-%28Error_%26_File_Handeling%29/class12.ipynb#Y102sZmlsZQ%3D%3D?line=8'>9</a>\u001b[0m plt\u001b[39m.\u001b[39mfigure(\u001b[39m1\u001b[39m)\n",
      "File \u001b[1;32mc:\\Python311\\Lib\\wave.py:630\u001b[0m, in \u001b[0;36mopen\u001b[1;34m(f, mode)\u001b[0m\n\u001b[0;32m    628\u001b[0m         mode \u001b[39m=\u001b[39m \u001b[39m'\u001b[39m\u001b[39mrb\u001b[39m\u001b[39m'\u001b[39m\n\u001b[0;32m    629\u001b[0m \u001b[39mif\u001b[39;00m mode \u001b[39min\u001b[39;00m (\u001b[39m'\u001b[39m\u001b[39mr\u001b[39m\u001b[39m'\u001b[39m, \u001b[39m'\u001b[39m\u001b[39mrb\u001b[39m\u001b[39m'\u001b[39m):\n\u001b[1;32m--> 630\u001b[0m     \u001b[39mreturn\u001b[39;00m Wave_read(f)\n\u001b[0;32m    631\u001b[0m \u001b[39melif\u001b[39;00m mode \u001b[39min\u001b[39;00m (\u001b[39m'\u001b[39m\u001b[39mw\u001b[39m\u001b[39m'\u001b[39m, \u001b[39m'\u001b[39m\u001b[39mwb\u001b[39m\u001b[39m'\u001b[39m):\n\u001b[0;32m    632\u001b[0m     \u001b[39mreturn\u001b[39;00m Wave_write(f)\n",
      "File \u001b[1;32mc:\\Python311\\Lib\\wave.py:284\u001b[0m, in \u001b[0;36mWave_read.__init__\u001b[1;34m(self, f)\u001b[0m\n\u001b[0;32m    282\u001b[0m \u001b[39m# else, assume it is an open file object already\u001b[39;00m\n\u001b[0;32m    283\u001b[0m \u001b[39mtry\u001b[39;00m:\n\u001b[1;32m--> 284\u001b[0m     \u001b[39mself\u001b[39;49m\u001b[39m.\u001b[39;49minitfp(f)\n\u001b[0;32m    285\u001b[0m \u001b[39mexcept\u001b[39;00m:\n\u001b[0;32m    286\u001b[0m     \u001b[39mif\u001b[39;00m \u001b[39mself\u001b[39m\u001b[39m.\u001b[39m_i_opened_the_file:\n",
      "File \u001b[1;32mc:\\Python311\\Lib\\wave.py:251\u001b[0m, in \u001b[0;36mWave_read.initfp\u001b[1;34m(self, file)\u001b[0m\n\u001b[0;32m    249\u001b[0m \u001b[39mself\u001b[39m\u001b[39m.\u001b[39m_file \u001b[39m=\u001b[39m _Chunk(file, bigendian \u001b[39m=\u001b[39m \u001b[39m0\u001b[39m)\n\u001b[0;32m    250\u001b[0m \u001b[39mif\u001b[39;00m \u001b[39mself\u001b[39m\u001b[39m.\u001b[39m_file\u001b[39m.\u001b[39mgetname() \u001b[39m!=\u001b[39m \u001b[39mb\u001b[39m\u001b[39m'\u001b[39m\u001b[39mRIFF\u001b[39m\u001b[39m'\u001b[39m:\n\u001b[1;32m--> 251\u001b[0m     \u001b[39mraise\u001b[39;00m Error(\u001b[39m'\u001b[39m\u001b[39mfile does not start with RIFF id\u001b[39m\u001b[39m'\u001b[39m)\n\u001b[0;32m    252\u001b[0m \u001b[39mif\u001b[39;00m \u001b[39mself\u001b[39m\u001b[39m.\u001b[39m_file\u001b[39m.\u001b[39mread(\u001b[39m4\u001b[39m) \u001b[39m!=\u001b[39m \u001b[39mb\u001b[39m\u001b[39m'\u001b[39m\u001b[39mWAVE\u001b[39m\u001b[39m'\u001b[39m:\n\u001b[0;32m    253\u001b[0m     \u001b[39mraise\u001b[39;00m Error(\u001b[39m'\u001b[39m\u001b[39mnot a WAVE file\u001b[39m\u001b[39m'\u001b[39m)\n",
      "\u001b[1;31mError\u001b[0m: file does not start with RIFF id"
     ]
    }
   ],
   "source": [
    "import matplotlib.pyplot as plt\n",
    "import numpy as np\n",
    "import wave\n",
    "import sys\n",
    "\n",
    "audio_file = wave.open(\"./voice.mp3\")\n",
    "signals = np.frombuffer(signals, dtype=np.int16)\n",
    "\n",
    "plt.figure(1)\n",
    "plt.title(\"Signals waves...\")\n",
    "plt.plot(signals)\n",
    "plt.show()\n"
   ]
  }
 ],
 "metadata": {
  "kernelspec": {
   "display_name": "Python 3",
   "language": "python",
   "name": "python3"
  },
  "language_info": {
   "codemirror_mode": {
    "name": "ipython",
    "version": 3
   },
   "file_extension": ".py",
   "mimetype": "text/x-python",
   "name": "python",
   "nbconvert_exporter": "python",
   "pygments_lexer": "ipython3",
   "version": "3.11.3"
  }
 },
 "nbformat": 4,
 "nbformat_minor": 2
}
