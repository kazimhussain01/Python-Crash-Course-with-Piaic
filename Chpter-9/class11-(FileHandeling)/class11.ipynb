{
 "cells": [
  {
   "cell_type": "code",
   "execution_count": 2,
   "metadata": {},
   "outputs": [
    {
     "name": "stdout",
     "output_type": "stream",
     "text": [
      "[1, 2, 3, 4]\n"
     ]
    }
   ],
   "source": [
    "list_a : list[int] = [1,2,3]\n",
    "list_b = list_a\n",
    "list_a.append(4)\n",
    "print(list_a)"
   ]
  },
  {
   "cell_type": "code",
   "execution_count": 3,
   "metadata": {},
   "outputs": [
    {
     "name": "stdout",
     "output_type": "stream",
     "text": [
      "num1 value before 5\n",
      "num1 value is 6\n",
      "original variable value is 5\n"
     ]
    }
   ],
   "source": [
    "a : int = 5\n",
    "\n",
    "def my_function(num1: int)-> None:\n",
    "    print(f\"num1 value before {num1}\")\n",
    "    num1 = 6 # copy\n",
    "    print(f\"num1 value is {num1}\")\n",
    "    \n",
    "my_function(a) # Pass by a Value Imutable \n",
    "\n",
    "print(f\"original variable value is {a}\")"
   ]
  },
  {
   "cell_type": "code",
   "execution_count": 6,
   "metadata": {},
   "outputs": [
    {
     "name": "stdout",
     "output_type": "stream",
     "text": [
      "num1 value is [1, 2, 3, 4, 200]\n",
      "[1, 2, 3, 4, 200]\n"
     ]
    }
   ],
   "source": [
    "a : list[int] = [1,2,3,4]\n",
    "\n",
    "def my_function(num1:list[int])-> None:\n",
    "    num1.append(200) # added on element\n",
    "    print(f\"num1 value is {num1}\")\n",
    "    \n",
    "my_function(a) # Pass by a reference {Mutable data type}\n",
    "\n",
    "print(a)"
   ]
  },
  {
   "cell_type": "code",
   "execution_count": 10,
   "metadata": {},
   "outputs": [
    {
     "name": "stdout",
     "output_type": "stream",
     "text": [
      "1975004236928\n",
      "1975004243072\n"
     ]
    }
   ],
   "source": [
    "a : list[int] = [1,2,3,4] # mutable\n",
    "b : list[int] = [1,2,3,4] # mutable\n",
    "\n",
    "print(id(a))\n",
    "print(id(b))"
   ]
  },
  {
   "cell_type": "markdown",
   "metadata": {},
   "source": [
    "# Run Time Error"
   ]
  },
  {
   "cell_type": "code",
   "execution_count": 12,
   "metadata": {},
   "outputs": [
    {
     "name": "stdout",
     "output_type": "stream",
     "text": [
      "5.0\n"
     ]
    }
   ],
   "source": [
    "a : int = int(input(\"Enter number1:\\t\"))\n",
    "b : int = int(input(\"Enter number2:\\t\"))\n",
    "\n",
    "print(a / b)"
   ]
  },
  {
   "cell_type": "code",
   "execution_count": 14,
   "metadata": {},
   "outputs": [
    {
     "ename": "ZeroDivisionError",
     "evalue": "division by zero",
     "output_type": "error",
     "traceback": [
      "\u001b[1;31m---------------------------------------------------------------------------\u001b[0m",
      "\u001b[1;31mZeroDivisionError\u001b[0m                         Traceback (most recent call last)",
      "\u001b[1;32me:\\PIAIC\\Python Crash Course with Piaic\\Chpter-9\\class11-(FileHandeling)\\class.ipynb Cell 7\u001b[0m line \u001b[0;36m4\n\u001b[0;32m      <a href='vscode-notebook-cell:/e%3A/PIAIC/Python%20Crash%20Course%20with%20Piaic/Chpter-9/class11-%28FileHandeling%29/class.ipynb#W6sZmlsZQ%3D%3D?line=0'>1</a>\u001b[0m a : \u001b[39mint\u001b[39m \u001b[39m=\u001b[39m \u001b[39mint\u001b[39m(\u001b[39minput\u001b[39m(\u001b[39m\"\u001b[39m\u001b[39mEnter number1:\u001b[39m\u001b[39m\\t\u001b[39;00m\u001b[39m\"\u001b[39m))\n\u001b[0;32m      <a href='vscode-notebook-cell:/e%3A/PIAIC/Python%20Crash%20Course%20with%20Piaic/Chpter-9/class11-%28FileHandeling%29/class.ipynb#W6sZmlsZQ%3D%3D?line=1'>2</a>\u001b[0m b : \u001b[39mint\u001b[39m \u001b[39m=\u001b[39m \u001b[39mint\u001b[39m(\u001b[39minput\u001b[39m(\u001b[39m\"\u001b[39m\u001b[39mEnter number2:\u001b[39m\u001b[39m\\t\u001b[39;00m\u001b[39m\"\u001b[39m))\n\u001b[1;32m----> <a href='vscode-notebook-cell:/e%3A/PIAIC/Python%20Crash%20Course%20with%20Piaic/Chpter-9/class11-%28FileHandeling%29/class.ipynb#W6sZmlsZQ%3D%3D?line=3'>4</a>\u001b[0m \u001b[39mprint\u001b[39m(a \u001b[39m/\u001b[39;49m b)\n",
      "\u001b[1;31mZeroDivisionError\u001b[0m: division by zero"
     ]
    }
   ],
   "source": [
    "a : int = int(input(\"Enter number1:\\t\"))\n",
    "b : int = int(input(\"Enter number2:\\t\"))\n",
    "\n",
    "print(a / b)"
   ]
  },
  {
   "cell_type": "code",
   "execution_count": 17,
   "metadata": {},
   "outputs": [
    {
     "ename": "IndexError",
     "evalue": "list index out of range",
     "output_type": "error",
     "traceback": [
      "\u001b[1;31m---------------------------------------------------------------------------\u001b[0m",
      "\u001b[1;31mIndexError\u001b[0m                                Traceback (most recent call last)",
      "\u001b[1;32me:\\PIAIC\\Python Crash Course with Piaic\\Chpter-9\\class11-(FileHandeling)\\class.ipynb Cell 8\u001b[0m line \u001b[0;36m4\n\u001b[0;32m      <a href='vscode-notebook-cell:/e%3A/PIAIC/Python%20Crash%20Course%20with%20Piaic/Chpter-9/class11-%28FileHandeling%29/class.ipynb#X10sZmlsZQ%3D%3D?line=0'>1</a>\u001b[0m names : \u001b[39mlist\u001b[39m[\u001b[39mstr\u001b[39m] \u001b[39m=\u001b[39m [\u001b[39m\"\u001b[39m\u001b[39mKazim\u001b[39m\u001b[39m\"\u001b[39m, \u001b[39m\"\u001b[39m\u001b[39mHamza\u001b[39m\u001b[39m\"\u001b[39m, \u001b[39m\"\u001b[39m\u001b[39mZain\u001b[39m\u001b[39m\"\u001b[39m, \u001b[39m\"\u001b[39m\u001b[39mTayyab\u001b[39m\u001b[39m\"\u001b[39m]\n\u001b[0;32m      <a href='vscode-notebook-cell:/e%3A/PIAIC/Python%20Crash%20Course%20with%20Piaic/Chpter-9/class11-%28FileHandeling%29/class.ipynb#X10sZmlsZQ%3D%3D?line=2'>3</a>\u001b[0m index : \u001b[39mint\u001b[39m \u001b[39m=\u001b[39m \u001b[39mint\u001b[39m(\u001b[39minput\u001b[39m(\u001b[39m\"\u001b[39m\u001b[39mEnter index number:\u001b[39m\u001b[39m\\t\u001b[39;00m\u001b[39m\"\u001b[39m))\n\u001b[1;32m----> <a href='vscode-notebook-cell:/e%3A/PIAIC/Python%20Crash%20Course%20with%20Piaic/Chpter-9/class11-%28FileHandeling%29/class.ipynb#X10sZmlsZQ%3D%3D?line=3'>4</a>\u001b[0m \u001b[39mprint\u001b[39m(names[index])\n",
      "\u001b[1;31mIndexError\u001b[0m: list index out of range"
     ]
    }
   ],
   "source": [
    "names : list[str] = [\"Kazim\", \"Hamza\", \"Zain\", \"Tayyab\"]\n",
    "\n",
    "index : int = int(input(\"Enter index number:\\t\"))\n",
    "print(names[index])"
   ]
  },
  {
   "cell_type": "code",
   "execution_count": 19,
   "metadata": {},
   "outputs": [
    {
     "ename": "TypeError",
     "evalue": "'tuple' object does not support item assignment",
     "output_type": "error",
     "traceback": [
      "\u001b[1;31m---------------------------------------------------------------------------\u001b[0m",
      "\u001b[1;31mTypeError\u001b[0m                                 Traceback (most recent call last)",
      "\u001b[1;32me:\\PIAIC\\Python Crash Course with Piaic\\Chpter-9\\class11-(FileHandeling)\\class.ipynb Cell 9\u001b[0m line \u001b[0;36m3\n\u001b[0;32m      <a href='vscode-notebook-cell:/e%3A/PIAIC/Python%20Crash%20Course%20with%20Piaic/Chpter-9/class11-%28FileHandeling%29/class.ipynb#X11sZmlsZQ%3D%3D?line=0'>1</a>\u001b[0m data : \u001b[39mlist\u001b[39m[\u001b[39mint\u001b[39m, \u001b[39mint\u001b[39m, \u001b[39mint\u001b[39m] \u001b[39m=\u001b[39m (\u001b[39m1\u001b[39m,\u001b[39m2\u001b[39m,\u001b[39m3\u001b[39m)\n\u001b[1;32m----> <a href='vscode-notebook-cell:/e%3A/PIAIC/Python%20Crash%20Course%20with%20Piaic/Chpter-9/class11-%28FileHandeling%29/class.ipynb#X11sZmlsZQ%3D%3D?line=2'>3</a>\u001b[0m data[\u001b[39m0\u001b[39;49m] \u001b[39m=\u001b[39m \u001b[39m2000\u001b[39m\n",
      "\u001b[1;31mTypeError\u001b[0m: 'tuple' object does not support item assignment"
     ]
    }
   ],
   "source": [
    "data : list[int, int, int] = (1,2,3)\n",
    "\n",
    "data[0] = 2000"
   ]
  },
  {
   "cell_type": "code",
   "execution_count": 22,
   "metadata": {},
   "outputs": [
    {
     "ename": "TypeError",
     "evalue": "can only concatenate str (not \"int\") to str",
     "output_type": "error",
     "traceback": [
      "\u001b[1;31m---------------------------------------------------------------------------\u001b[0m",
      "\u001b[1;31mTypeError\u001b[0m                                 Traceback (most recent call last)",
      "\u001b[1;32me:\\PIAIC\\Python Crash Course with Piaic\\Chpter-9\\class11-(FileHandeling)\\class.ipynb Cell 10\u001b[0m line \u001b[0;36m1\n\u001b[1;32m----> <a href='vscode-notebook-cell:/e%3A/PIAIC/Python%20Crash%20Course%20with%20Piaic/Chpter-9/class11-%28FileHandeling%29/class.ipynb#X12sZmlsZQ%3D%3D?line=0'>1</a>\u001b[0m \u001b[39m\"\u001b[39;49m\u001b[39m2\u001b[39;49m\u001b[39m\"\u001b[39;49m \u001b[39m+\u001b[39;49m \u001b[39m2\u001b[39;49m\n",
      "\u001b[1;31mTypeError\u001b[0m: can only concatenate str (not \"int\") to str"
     ]
    }
   ],
   "source": [
    "\"2\" + 2"
   ]
  },
  {
   "cell_type": "code",
   "execution_count": 23,
   "metadata": {},
   "outputs": [
    {
     "ename": "KeyError",
     "evalue": "'father name'",
     "output_type": "error",
     "traceback": [
      "\u001b[1;31m---------------------------------------------------------------------------\u001b[0m",
      "\u001b[1;31mKeyError\u001b[0m                                  Traceback (most recent call last)",
      "\u001b[1;32me:\\PIAIC\\Python Crash Course with Piaic\\Chpter-9\\class11-(FileHandeling)\\class.ipynb Cell 11\u001b[0m line \u001b[0;36m6\n\u001b[0;32m      <a href='vscode-notebook-cell:/e%3A/PIAIC/Python%20Crash%20Course%20with%20Piaic/Chpter-9/class11-%28FileHandeling%29/class.ipynb#X13sZmlsZQ%3D%3D?line=0'>1</a>\u001b[0m data : \u001b[39mdict\u001b[39m[\u001b[39mstr\u001b[39m, \u001b[39mstr\u001b[39m] \u001b[39m=\u001b[39m {\n\u001b[0;32m      <a href='vscode-notebook-cell:/e%3A/PIAIC/Python%20Crash%20Course%20with%20Piaic/Chpter-9/class11-%28FileHandeling%29/class.ipynb#X13sZmlsZQ%3D%3D?line=1'>2</a>\u001b[0m                         \u001b[39m\"\u001b[39m\u001b[39mname\u001b[39m\u001b[39m\"\u001b[39m: \u001b[39m\"\u001b[39m\u001b[39mKazim\u001b[39m\u001b[39m\"\u001b[39m,\n\u001b[0;32m      <a href='vscode-notebook-cell:/e%3A/PIAIC/Python%20Crash%20Course%20with%20Piaic/Chpter-9/class11-%28FileHandeling%29/class.ipynb#X13sZmlsZQ%3D%3D?line=2'>3</a>\u001b[0m                         \u001b[39m\"\u001b[39m\u001b[39meducation\u001b[39m\u001b[39m\"\u001b[39m: \u001b[39m\"\u001b[39m\u001b[39mICS\u001b[39m\u001b[39m\"\u001b[39m\n\u001b[0;32m      <a href='vscode-notebook-cell:/e%3A/PIAIC/Python%20Crash%20Course%20with%20Piaic/Chpter-9/class11-%28FileHandeling%29/class.ipynb#X13sZmlsZQ%3D%3D?line=3'>4</a>\u001b[0m }\n\u001b[1;32m----> <a href='vscode-notebook-cell:/e%3A/PIAIC/Python%20Crash%20Course%20with%20Piaic/Chpter-9/class11-%28FileHandeling%29/class.ipynb#X13sZmlsZQ%3D%3D?line=5'>6</a>\u001b[0m data[\u001b[39m\"\u001b[39;49m\u001b[39mfather name\u001b[39;49m\u001b[39m\"\u001b[39;49m]\n",
      "\u001b[1;31mKeyError\u001b[0m: 'father name'"
     ]
    }
   ],
   "source": [
    "data : dict[str, str] = {\n",
    "                        \"name\": \"Kazim\",\n",
    "                        \"education\": \"ICS\"\n",
    "}\n",
    "\n",
    "data[\"father name\"]"
   ]
  },
  {
   "cell_type": "code",
   "execution_count": 25,
   "metadata": {},
   "outputs": [
    {
     "ename": "FileNotFoundError",
     "evalue": "[Errno 2] No such file or directory: 'abc.txt'",
     "output_type": "error",
     "traceback": [
      "\u001b[1;31m---------------------------------------------------------------------------\u001b[0m",
      "\u001b[1;31mFileNotFoundError\u001b[0m                         Traceback (most recent call last)",
      "\u001b[1;32me:\\PIAIC\\Python Crash Course with Piaic\\Chpter-9\\class11-(FileHandeling)\\class.ipynb Cell 12\u001b[0m line \u001b[0;36m1\n\u001b[1;32m----> <a href='vscode-notebook-cell:/e%3A/PIAIC/Python%20Crash%20Course%20with%20Piaic/Chpter-9/class11-%28FileHandeling%29/class.ipynb#X14sZmlsZQ%3D%3D?line=0'>1</a>\u001b[0m \u001b[39mopen\u001b[39;49m(\u001b[39m\"\u001b[39;49m\u001b[39mabc.txt\u001b[39;49m\u001b[39m\"\u001b[39;49m)\n",
      "File \u001b[1;32m~\\AppData\\Roaming\\Python\\Python311\\site-packages\\IPython\\core\\interactiveshell.py:286\u001b[0m, in \u001b[0;36m_modified_open\u001b[1;34m(file, *args, **kwargs)\u001b[0m\n\u001b[0;32m    279\u001b[0m \u001b[39mif\u001b[39;00m file \u001b[39min\u001b[39;00m {\u001b[39m0\u001b[39m, \u001b[39m1\u001b[39m, \u001b[39m2\u001b[39m}:\n\u001b[0;32m    280\u001b[0m     \u001b[39mraise\u001b[39;00m \u001b[39mValueError\u001b[39;00m(\n\u001b[0;32m    281\u001b[0m         \u001b[39mf\u001b[39m\u001b[39m\"\u001b[39m\u001b[39mIPython won\u001b[39m\u001b[39m'\u001b[39m\u001b[39mt let you open fd=\u001b[39m\u001b[39m{\u001b[39;00mfile\u001b[39m}\u001b[39;00m\u001b[39m by default \u001b[39m\u001b[39m\"\u001b[39m\n\u001b[0;32m    282\u001b[0m         \u001b[39m\"\u001b[39m\u001b[39mas it is likely to crash IPython. If you know what you are doing, \u001b[39m\u001b[39m\"\u001b[39m\n\u001b[0;32m    283\u001b[0m         \u001b[39m\"\u001b[39m\u001b[39myou can use builtins\u001b[39m\u001b[39m'\u001b[39m\u001b[39m open.\u001b[39m\u001b[39m\"\u001b[39m\n\u001b[0;32m    284\u001b[0m     )\n\u001b[1;32m--> 286\u001b[0m \u001b[39mreturn\u001b[39;00m io_open(file, \u001b[39m*\u001b[39;49margs, \u001b[39m*\u001b[39;49m\u001b[39m*\u001b[39;49mkwargs)\n",
      "\u001b[1;31mFileNotFoundError\u001b[0m: [Errno 2] No such file or directory: 'abc.txt'"
     ]
    }
   ],
   "source": [
    "open(\"abc.txt\")"
   ]
  },
  {
   "cell_type": "markdown",
   "metadata": {},
   "source": [
    "# Handel Run time error\n",
    "```\n",
    "try:\n",
    "    logic\n",
    "expect (Error_class1, Error_class2):\n",
    "    if error accrued then run this block\n",
    "else:\n",
    "    if error not accrued\n",
    "finally:\n",
    "    always run\n",
    "```"
   ]
  },
  {
   "cell_type": "code",
   "execution_count": 26,
   "metadata": {},
   "outputs": [
    {
     "name": "stdout",
     "output_type": "stream",
     "text": [
      "logic-1\n",
      "logic-2\n"
     ]
    },
    {
     "ename": "ZeroDivisionError",
     "evalue": "division by zero",
     "output_type": "error",
     "traceback": [
      "\u001b[1;31m---------------------------------------------------------------------------\u001b[0m",
      "\u001b[1;31mZeroDivisionError\u001b[0m                         Traceback (most recent call last)",
      "\u001b[1;32me:\\PIAIC\\Python Crash Course with Piaic\\Chpter-9\\class11-(FileHandeling)\\class.ipynb Cell 14\u001b[0m line \u001b[0;36m3\n\u001b[0;32m      <a href='vscode-notebook-cell:/e%3A/PIAIC/Python%20Crash%20Course%20with%20Piaic/Chpter-9/class11-%28FileHandeling%29/class.ipynb#X21sZmlsZQ%3D%3D?line=0'>1</a>\u001b[0m \u001b[39mprint\u001b[39m(\u001b[39m\"\u001b[39m\u001b[39mlogic-1\u001b[39m\u001b[39m\"\u001b[39m)\n\u001b[0;32m      <a href='vscode-notebook-cell:/e%3A/PIAIC/Python%20Crash%20Course%20with%20Piaic/Chpter-9/class11-%28FileHandeling%29/class.ipynb#X21sZmlsZQ%3D%3D?line=1'>2</a>\u001b[0m \u001b[39mprint\u001b[39m(\u001b[39m\"\u001b[39m\u001b[39mlogic-2\u001b[39m\u001b[39m\"\u001b[39m)\n\u001b[1;32m----> <a href='vscode-notebook-cell:/e%3A/PIAIC/Python%20Crash%20Course%20with%20Piaic/Chpter-9/class11-%28FileHandeling%29/class.ipynb#X21sZmlsZQ%3D%3D?line=2'>3</a>\u001b[0m \u001b[39mprint\u001b[39m(\u001b[39m5\u001b[39;49m\u001b[39m/\u001b[39;49m\u001b[39m0\u001b[39;49m)\n\u001b[0;32m      <a href='vscode-notebook-cell:/e%3A/PIAIC/Python%20Crash%20Course%20with%20Piaic/Chpter-9/class11-%28FileHandeling%29/class.ipynb#X21sZmlsZQ%3D%3D?line=3'>4</a>\u001b[0m \u001b[39mprint\u001b[39m(\u001b[39m\"\u001b[39m\u001b[39mlogic-3\u001b[39m\u001b[39m\"\u001b[39m)\n\u001b[0;32m      <a href='vscode-notebook-cell:/e%3A/PIAIC/Python%20Crash%20Course%20with%20Piaic/Chpter-9/class11-%28FileHandeling%29/class.ipynb#X21sZmlsZQ%3D%3D?line=4'>5</a>\u001b[0m \u001b[39mprint\u001b[39m(\u001b[39m\"\u001b[39m\u001b[39mlogic-4\u001b[39m\u001b[39m\"\u001b[39m)\n",
      "\u001b[1;31mZeroDivisionError\u001b[0m: division by zero"
     ]
    }
   ],
   "source": [
    "print(\"logic-1\")\n",
    "print(\"logic-2\")\n",
    "print(5/0)\n",
    "print(\"logic-3\")\n",
    "print(\"logic-4\")"
   ]
  },
  {
   "cell_type": "code",
   "execution_count": 27,
   "metadata": {},
   "outputs": [
    {
     "name": "stdout",
     "output_type": "stream",
     "text": [
      "logic-1\n",
      "logic-2\n",
      "Zero Division Error\n",
      "logic-3\n",
      "logic-4\n"
     ]
    }
   ],
   "source": [
    "print(\"logic-1\")\n",
    "print(\"logic-2\")\n",
    "try:\n",
    "    print(5/0)\n",
    "except ZeroDivisionError:\n",
    "    print(\"Zero Division Error\")\n",
    "print(\"logic-3\")\n",
    "print(\"logic-4\")"
   ]
  },
  {
   "cell_type": "code",
   "execution_count": 28,
   "metadata": {},
   "outputs": [
    {
     "name": "stdout",
     "output_type": "stream",
     "text": [
      "logic-1\n",
      "logic-2\n",
      "logic-3\n",
      "logic-4\n"
     ]
    }
   ],
   "source": [
    "print(\"logic-1\")\n",
    "print(\"logic-2\")\n",
    "try:\n",
    "    print(5/0)\n",
    "except ZeroDivisionError:\n",
    "    pass\n",
    "print(\"logic-3\")\n",
    "print(\"logic-4\")"
   ]
  },
  {
   "cell_type": "code",
   "execution_count": 31,
   "metadata": {},
   "outputs": [
    {
     "ename": "IndexError",
     "evalue": "list index out of range",
     "output_type": "error",
     "traceback": [
      "\u001b[1;31m---------------------------------------------------------------------------\u001b[0m",
      "\u001b[1;31mIndexError\u001b[0m                                Traceback (most recent call last)",
      "\u001b[1;32me:\\PIAIC\\Python Crash Course with Piaic\\Chpter-9\\class11-(FileHandeling)\\class.ipynb Cell 17\u001b[0m line \u001b[0;36m2\n\u001b[0;32m      <a href='vscode-notebook-cell:/e%3A/PIAIC/Python%20Crash%20Course%20with%20Piaic/Chpter-9/class11-%28FileHandeling%29/class.ipynb#X25sZmlsZQ%3D%3D?line=0'>1</a>\u001b[0m li : \u001b[39mlist\u001b[39m[\u001b[39mint\u001b[39m] \u001b[39m=\u001b[39m [\u001b[39m1\u001b[39m,\u001b[39m2\u001b[39m,\u001b[39m3\u001b[39m]\n\u001b[1;32m----> <a href='vscode-notebook-cell:/e%3A/PIAIC/Python%20Crash%20Course%20with%20Piaic/Chpter-9/class11-%28FileHandeling%29/class.ipynb#X25sZmlsZQ%3D%3D?line=1'>2</a>\u001b[0m li[\u001b[39m5\u001b[39;49m]\n",
      "\u001b[1;31mIndexError\u001b[0m: list index out of range"
     ]
    }
   ],
   "source": [
    "li : list[int] = [1,2,3]\n",
    "li[5]"
   ]
  },
  {
   "cell_type": "code",
   "execution_count": 33,
   "metadata": {},
   "outputs": [
    {
     "name": "stdout",
     "output_type": "stream",
     "text": [
      "logic-1\n",
      "logic-2\n",
      "Zero Division Error\n",
      "logic-3\n",
      "logic-4\n"
     ]
    }
   ],
   "source": [
    "print(\"logic-1\")\n",
    "print(\"logic-2\")\n",
    "\n",
    "li : list[int] = [1,2,3]\n",
    "\n",
    "try:\n",
    "    print(5/0) # Error\n",
    "    print(li[0])\n",
    "    print(xyz)\n",
    "    \n",
    "except (ZeroDivisionError, IndexError):\n",
    "    print(\"Zero Division Error\")\n",
    "print(\"logic-3\")\n",
    "print(\"logic-4\")"
   ]
  },
  {
   "cell_type": "code",
   "execution_count": 11,
   "metadata": {},
   "outputs": [
    {
     "name": "stdout",
     "output_type": "stream",
     "text": [
      "logic-1\n",
      "logic-2\n",
      "2.5\n",
      "List Index Out of Range\n",
      "logic-3\n",
      "logic-4\n"
     ]
    }
   ],
   "source": [
    "print(\"logic-1\")\n",
    "print(\"logic-2\")\n",
    "\n",
    "li : list[int] = [1,2,3]\n",
    "\n",
    "try:\n",
    "    print(5/2)\n",
    "    # print(li[0])\n",
    "    print(xyz)\n",
    "    \n",
    "except (ZeroDivisionError, IndexError, NameError):\n",
    "    print(\"List Index Out of Range\")\n",
    "print(\"logic-3\")\n",
    "print(\"logic-4\")"
   ]
  }
 ],
 "metadata": {
  "kernelspec": {
   "display_name": "Python 3",
   "language": "python",
   "name": "python3"
  },
  "language_info": {
   "codemirror_mode": {
    "name": "ipython",
    "version": 3
   },
   "file_extension": ".py",
   "mimetype": "text/x-python",
   "name": "python",
   "nbconvert_exporter": "python",
   "pygments_lexer": "ipython3",
   "version": "3.11.3"
  }
 },
 "nbformat": 4,
 "nbformat_minor": 2
}
