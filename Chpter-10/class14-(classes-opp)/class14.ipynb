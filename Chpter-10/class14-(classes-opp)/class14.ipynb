{
 "cells": [
  {
   "cell_type": "markdown",
   "metadata": {},
   "source": [
    "# Function Overloading"
   ]
  },
  {
   "cell_type": "code",
   "execution_count": 61,
   "metadata": {},
   "outputs": [
    {
     "name": "stdout",
     "output_type": "stream",
     "text": [
      "3\n",
      "4.0\n",
      "HelloWorld\n"
     ]
    }
   ],
   "source": [
    "from typing import Union, overload\n",
    "\n",
    "@overload\n",
    "def add(x: int, y: int) -> int:\n",
    "    ...\n",
    "    \n",
    "@overload\n",
    "def add(x: float, y: float) -> float:\n",
    "    ...\n",
    "    \n",
    "@overload\n",
    "def add(x: str, y: str) -> str:\n",
    "    ...\n",
    "    \n",
    "def add(x: Union[int, float, str], y: Union[int, float, str]) -> Union[int, float, str]:\n",
    "    if isinstance(x, int) and isinstance(y, int):\n",
    "        return x + y\n",
    "    elif isinstance(x, float) and isinstance(y, float):\n",
    "        return x + y\n",
    "    elif isinstance(x, str) and isinstance(y, str):\n",
    "        return x + y\n",
    "    else:\n",
    "        raise TypeError(\"Invalid Argument Type\")\n",
    "    \n",
    "# Usage Example\n",
    "result1 = add(1, 2) # Should Result 3\n",
    "result2 = add(1.5, 2.5) # Should Result 4.0\n",
    "result3 = add(\"Hello\", \"World\") # Should Result \"Hello, World\"\n",
    "\n",
    "print(result1)\n",
    "print(result2)\n",
    "print(result3)"
   ]
  },
  {
   "cell_type": "markdown",
   "metadata": {},
   "source": [
    "# Method Overload\n"
   ]
  },
  {
   "cell_type": "code",
   "execution_count": 72,
   "metadata": {},
   "outputs": [
    {
     "name": "stdout",
     "output_type": "stream",
     "text": [
      "3\n",
      "4.0\n",
      "HelloWorld\n"
     ]
    }
   ],
   "source": [
    "from typing import Union, overload\n",
    "\n",
    "class Adder:\n",
    "    @overload\n",
    "    def add(self, x: int, y: int) -> int:\n",
    "        ...\n",
    "\n",
    "    @overload\n",
    "    def add(self, x: float, y: float) -> float:\n",
    "        ...\n",
    "\n",
    "    @overload\n",
    "    def add(self, x: str, y: str) -> str:\n",
    "        ...\n",
    "    \n",
    "    def add(self, x: Union[int, float, str], y: Union[int, float, str]) -> Union[int, float, str]:\n",
    "        if isinstance(x, int) and isinstance(y, int):\n",
    "            return x + y\n",
    "        elif isinstance(x, float) and isinstance(y, float):\n",
    "            return x + y\n",
    "        elif isinstance(x, str) and isinstance(y, str):\n",
    "            return x + y\n",
    "        else:\n",
    "            raise TypeError(\"Invalid Argument Type\")\n",
    "    \n",
    "# Usage Example\n",
    "adder = Adder()\n",
    "result1 = adder.add(1, 2) # Should Result 3\n",
    "result2 = adder.add(1.5, 2.5) # Should Result 4.0\n",
    "result3 = adder.add(\"Hello\", \"World\") # Should Result \"Hello, World\"\n",
    "\n",
    "print(result1)\n",
    "print(result2)\n",
    "print(result3)"
   ]
  },
  {
   "cell_type": "code",
   "execution_count": 77,
   "metadata": {},
   "outputs": [
    {
     "ename": "TypeError",
     "evalue": "Invalid Argument Type",
     "output_type": "error",
     "traceback": [
      "\u001b[1;31m---------------------------------------------------------------------------\u001b[0m",
      "\u001b[1;31mTypeError\u001b[0m                                 Traceback (most recent call last)",
      "\u001b[1;32me:\\PIAIC\\Python Crash Course with Piaic\\Chpter-10\\class14-(classes-opp)\\class14.ipynb Cell 5\u001b[0m line \u001b[0;36m1\n\u001b[1;32m----> <a href='vscode-notebook-cell:/e%3A/PIAIC/Python%20Crash%20Course%20with%20Piaic/Chpter-10/class14-%28classes-opp%29/class14.ipynb#X40sZmlsZQ%3D%3D?line=0'>1</a>\u001b[0m add([\u001b[39m1\u001b[39;49m,\u001b[39m2\u001b[39;49m,\u001b[39m3\u001b[39;49m], [\u001b[39m1\u001b[39;49m,\u001b[39m2\u001b[39;49m,\u001b[39m4\u001b[39;49m])\n",
      "\u001b[1;32me:\\PIAIC\\Python Crash Course with Piaic\\Chpter-10\\class14-(classes-opp)\\class14.ipynb Cell 5\u001b[0m line \u001b[0;36m2\n\u001b[0;32m     <a href='vscode-notebook-cell:/e%3A/PIAIC/Python%20Crash%20Course%20with%20Piaic/Chpter-10/class14-%28classes-opp%29/class14.ipynb#X40sZmlsZQ%3D%3D?line=20'>21</a>\u001b[0m     \u001b[39mreturn\u001b[39;00m x \u001b[39m+\u001b[39m y\n\u001b[0;32m     <a href='vscode-notebook-cell:/e%3A/PIAIC/Python%20Crash%20Course%20with%20Piaic/Chpter-10/class14-%28classes-opp%29/class14.ipynb#X40sZmlsZQ%3D%3D?line=21'>22</a>\u001b[0m \u001b[39melse\u001b[39;00m:\n\u001b[1;32m---> <a href='vscode-notebook-cell:/e%3A/PIAIC/Python%20Crash%20Course%20with%20Piaic/Chpter-10/class14-%28classes-opp%29/class14.ipynb#X40sZmlsZQ%3D%3D?line=22'>23</a>\u001b[0m     \u001b[39mraise\u001b[39;00m \u001b[39mTypeError\u001b[39;00m(\u001b[39m\"\u001b[39m\u001b[39mInvalid Argument Type\u001b[39m\u001b[39m\"\u001b[39m)\n",
      "\u001b[1;31mTypeError\u001b[0m: Invalid Argument Type"
     ]
    }
   ],
   "source": [
    "add([1,2,3], [1,2,4])"
   ]
  },
  {
   "cell_type": "markdown",
   "metadata": {},
   "source": [
    "# Multiply Inheritance "
   ]
  },
  {
   "cell_type": "code",
   "execution_count": 85,
   "metadata": {},
   "outputs": [
    {
     "name": "stdout",
     "output_type": "stream",
     "text": [
      "Object height 5.5 Feet\n",
      "object eye color brown\n",
      "Mother Speaking Function Pakistan Zindabad\n"
     ]
    }
   ],
   "source": [
    "class Mother:\n",
    "    def __init__(self, mother_name: str) -> None:\n",
    "        self.name: str  = mother_name\n",
    "        self.eye_color: str = \"brown\"\n",
    "        \n",
    "    def speaking(self, word: str) -> str:\n",
    "        return f\"Mother Speaking Function {word}\"\n",
    "        \n",
    "class Father:\n",
    "    def __init__(self, father_name: str) -> None:\n",
    "        self.name: str = father_name\n",
    "        self.height: str = \"5.5 Feet\"\n",
    "        \n",
    "class Child(Mother, Father):\n",
    "    def __init__(self, Mother_name: str, Father_name: str, Child_name: str) -> None:\n",
    "        Mother.__init__(self, Mother_name)\n",
    "        Father.__init__(self, Father_name)\n",
    "        self.child_name: str = Child_name\n",
    "        \n",
    "kazim : Child = Child(\"Naseem Sehar\", \"Naseer Ahmad\", \"Kazim Hussain\")\n",
    "print(f\"Object height {kazim.height}\")\n",
    "print(f\"object eye color {kazim.eye_color}\")\n",
    "print(kazim.speaking(\"Pakistan Zindabad\"))"
   ]
  },
  {
   "cell_type": "code",
   "execution_count": null,
   "metadata": {},
   "outputs": [
    {
     "name": "stdout",
     "output_type": "stream",
     "text": [
      "Object height 5.5 Feet\n",
      "object eye color brown\n",
      "Father Speaking Function Pakistan Zindabad\n"
     ]
    }
   ],
   "source": [
    "class Mother:\n",
    "    def __init__(self, mother_name: str) -> None:\n",
    "        self.name: str  = mother_name\n",
    "        self.eye_color: str = \"brown\"\n",
    "        \n",
    "    def speaking(self, word: str)-> str:\n",
    "        return f\"Mother Speaking Function {word}\"\n",
    "        \n",
    "class Father:\n",
    "    def __init__(self, father_name: str) -> None:\n",
    "        self.name: str = father_name\n",
    "        self.height: str = \"5.5 Feet\"\n",
    "        \n",
    "    def speaking(self, word: str)-> str:\n",
    "        return f\"Father Speaking Function {word}\"\n",
    "        \n",
    "class Child(Father, Mother):\n",
    "    def __init__(self, Mother_name: str, Father_name: str, Child_name: str) -> None:\n",
    "        Mother.__init__(self, Mother_name)\n",
    "        Father.__init__(self, Father_name)\n",
    "        self.child_name: str = Child_name\n",
    "        \n",
    "kazim : Child = Child(\"Naseem Sehar\", \"Naseer Ahmad\", \"Kazim Hussain\")\n",
    "print(f\"Object height {kazim.height}\")\n",
    "print(f\"object eye color {kazim.eye_color}\")\n",
    "print(kazim.speaking(\"Pakistan Zindabad\"))"
   ]
  },
  {
   "cell_type": "code",
   "execution_count": null,
   "metadata": {},
   "outputs": [
    {
     "data": {
      "text/plain": [
       "['__class__',\n",
       " '__delattr__',\n",
       " '__dict__',\n",
       " '__dir__',\n",
       " '__doc__',\n",
       " '__eq__',\n",
       " '__format__',\n",
       " '__ge__',\n",
       " '__getattribute__',\n",
       " '__getstate__',\n",
       " '__gt__',\n",
       " '__hash__',\n",
       " '__init__',\n",
       " '__init_subclass__',\n",
       " '__le__',\n",
       " '__lt__',\n",
       " '__module__',\n",
       " '__ne__',\n",
       " '__new__',\n",
       " '__reduce__',\n",
       " '__reduce_ex__',\n",
       " '__repr__',\n",
       " '__setattr__',\n",
       " '__sizeof__',\n",
       " '__str__',\n",
       " '__subclasshook__',\n",
       " '__weakref__',\n",
       " 'child_name',\n",
       " 'eye_color',\n",
       " 'height',\n",
       " 'name',\n",
       " 'speaking']"
      ]
     },
     "execution_count": 75,
     "metadata": {},
     "output_type": "execute_result"
    }
   ],
   "source": [
    "dir(kazim)"
   ]
  },
  {
   "cell_type": "markdown",
   "metadata": {},
   "source": [
    "## Overriding & Polymorphism"
   ]
  },
  {
   "cell_type": "code",
   "execution_count": null,
   "metadata": {},
   "outputs": [
    {
     "name": "stdout",
     "output_type": "stream",
     "text": [
      "Bird is eating bread\n",
      "Animal is eating grace\n"
     ]
    }
   ],
   "source": [
    "class Animal():\n",
    "    def eating(self, food : str) -> None:\n",
    "        print(f\"Animal is eating {food}\")\n",
    "        \n",
    "class Bird():\n",
    "    def eating(self, food : str) -> None:\n",
    "        print(f\"Bird is eating {food}\")\n",
    "        \n",
    "bird : Bird = Bird()\n",
    "bird.eating(\"bread\")\n",
    "\n",
    "animal : Animal = Animal()\n",
    "animal.eating(\"grace\")"
   ]
  },
  {
   "cell_type": "markdown",
   "metadata": {},
   "source": [
    "## Polymorphism"
   ]
  },
  {
   "cell_type": "code",
   "execution_count": null,
   "metadata": {},
   "outputs": [
    {
     "name": "stdout",
     "output_type": "stream",
     "text": [
      "Bird is eating grace\n"
     ]
    }
   ],
   "source": [
    "animal : Animal = Bird() # run time it will decide which object method it will run\n",
    "animal.eating(\"grace\")"
   ]
  },
  {
   "cell_type": "code",
   "execution_count": null,
   "metadata": {},
   "outputs": [
    {
     "name": "stdout",
     "output_type": "stream",
     "text": [
      "<class '__main__.Bird'>\n"
     ]
    }
   ],
   "source": [
    "print(type(animal))"
   ]
  },
  {
   "cell_type": "code",
   "execution_count": null,
   "metadata": {},
   "outputs": [
    {
     "name": "stdout",
     "output_type": "stream",
     "text": [
      "Animal is eating grace\n"
     ]
    }
   ],
   "source": [
    "animal : Animal = Animal()\n",
    "animal.eating(\"grace\")"
   ]
  },
  {
   "cell_type": "markdown",
   "metadata": {},
   "source": [
    "## Static Method & Static Variable(Class Variable)"
   ]
  },
  {
   "cell_type": "code",
   "execution_count": 84,
   "metadata": {},
   "outputs": [
    {
     "name": "stdout",
     "output_type": "stream",
     "text": [
      "Addition: 8\n",
      "Multiplication: 100\n",
      "Static variable or Class variable: PIAIC\n"
     ]
    }
   ],
   "source": [
    "class MyClass:\n",
    "    \n",
    "    counter = int = 100\n",
    "    organization = str = \"PIAIC\"\n",
    "    \n",
    "    @staticmethod\n",
    "    def add(x: int, y: int) -> int: # type: ignore\n",
    "        \"\"\"Add two Number\"\"\"\n",
    "        return x + y\n",
    "    \n",
    "    @staticmethod\n",
    "    def multiply(x: int, y: int) -> int: # type: ignore\n",
    "        \"\"\"Multiply two Number\"\"\"\n",
    "        return x * y\n",
    "\n",
    "# Usage Example\n",
    "result = MyClass.add(3, 5)\n",
    "result1 = MyClass.multiply(10, 10)\n",
    "\n",
    "print(\"Addition:\", result)\n",
    "print(\"Multiplication:\", result1)\n",
    "\n",
    "print(\"Static variable or Class variable:\", MyClass.organization)"
   ]
  }
 ],
 "metadata": {
  "kernelspec": {
   "display_name": "Python 3",
   "language": "python",
   "name": "python3"
  },
  "language_info": {
   "codemirror_mode": {
    "name": "ipython",
    "version": 3
   },
   "file_extension": ".py",
   "mimetype": "text/x-python",
   "name": "python",
   "nbconvert_exporter": "python",
   "pygments_lexer": "ipython3",
   "version": "3.11.3"
  }
 },
 "nbformat": 4,
 "nbformat_minor": 2
}
