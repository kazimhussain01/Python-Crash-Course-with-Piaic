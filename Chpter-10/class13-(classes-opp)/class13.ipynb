{
 "cells": [
  {
   "cell_type": "markdown",
   "metadata": {},
   "source": [
    "# OOP (Object Oriented Programming)\n",
    "* Class\n",
    "    * method\n",
    "        * first argument must be additional variable (self, this, or anything else)\n",
    "    * attributes\n",
    "        * Connect with individual object \n",
    "    * class variable\n",
    "    * constructor \n",
    "        * def```__init__(self, arg1, agr2)```\n",
    "    * Class Variable\n",
    "    * this value use for all objects\n",
    "        * `ClassName.class_variable`\n",
    "        ```\n",
    "        class ClassName():\n",
    "            class_variable : type = Value\n",
    "        ```\n",
    "# Syntax of Class\n",
    "```\n",
    "class ClassName():\n",
    "    pass\n",
    "```"
   ]
  },
  {
   "cell_type": "code",
   "execution_count": 53,
   "metadata": {},
   "outputs": [],
   "source": [
    "class Teacher():\n",
    "    def __init__(self, teacher_id: int, teacher_name: str) -> None: # method/constructor\n",
    "        self.name = teacher_name \n",
    "        self.teacher_id = teacher_id\n",
    "        self.organization_name = \"PIAIC\"\n",
    "\n",
    "    def _speak(self, word: str)-> None: # method\n",
    "        print(f\"{self.name} is teaching {word}\")\n",
    "\n",
    "    def teaching(self, subject: str)-> None: # method\n",
    "        print(f\"{self.name} is teaching {subject}...\")"
   ]
  },
  {
   "cell_type": "code",
   "execution_count": 55,
   "metadata": {},
   "outputs": [],
   "source": [
    "obj1 : Teacher = Teacher(1, \"Kazim\")\n",
    "obj2 : Teacher = Teacher(2, \"Hamza\")"
   ]
  },
  {
   "cell_type": "code",
   "execution_count": 56,
   "metadata": {},
   "outputs": [
    {
     "name": "stdout",
     "output_type": "stream",
     "text": [
      "Kazim\n",
      "1\n",
      "PIAIC\n",
      "Hamza\n",
      "2\n",
      "PIAIC\n"
     ]
    }
   ],
   "source": [
    "print(obj1.name)\n",
    "print(obj1.teacher_id)\n",
    "print(obj1.organization_name)\n",
    "\n",
    "print(obj2.name)\n",
    "print(obj2.teacher_id)\n",
    "print(obj2.organization_name)"
   ]
  },
  {
   "cell_type": "code",
   "execution_count": 57,
   "metadata": {},
   "outputs": [
    {
     "name": "stdout",
     "output_type": "stream",
     "text": [
      "Kazim is teaching Generative AI...\n"
     ]
    }
   ],
   "source": [
    "obj1.teaching(\"Generative AI\")"
   ]
  },
  {
   "cell_type": "code",
   "execution_count": 58,
   "metadata": {},
   "outputs": [
    {
     "name": "stdout",
     "output_type": "stream",
     "text": [
      "Hamza is teaching Deep Learning...\n"
     ]
    }
   ],
   "source": [
    "obj2.teaching(\"Deep Learning\")"
   ]
  },
  {
   "cell_type": "code",
   "execution_count": 24,
   "metadata": {},
   "outputs": [
    {
     "data": {
      "text/plain": [
       "['__class__',\n",
       " '__delattr__',\n",
       " '__dict__',\n",
       " '__dir__',\n",
       " '__doc__',\n",
       " '__eq__',\n",
       " '__format__',\n",
       " '__ge__',\n",
       " '__getattribute__',\n",
       " '__getstate__',\n",
       " '__gt__',\n",
       " '__hash__',\n",
       " '__init__',\n",
       " '__init_subclass__',\n",
       " '__le__',\n",
       " '__lt__',\n",
       " '__module__',\n",
       " '__ne__',\n",
       " '__new__',\n",
       " '__reduce__',\n",
       " '__reduce_ex__',\n",
       " '__repr__',\n",
       " '__setattr__',\n",
       " '__sizeof__',\n",
       " '__str__',\n",
       " '__subclasshook__',\n",
       " '__weakref__',\n",
       " '_speak',\n",
       " 'name',\n",
       " 'organization_name',\n",
       " 'teacher_id',\n",
       " 'teaching']"
      ]
     },
     "execution_count": 24,
     "metadata": {},
     "output_type": "execute_result"
    }
   ],
   "source": [
    "dir(obj1)"
   ]
  },
  {
   "cell_type": "code",
   "execution_count": 61,
   "metadata": {},
   "outputs": [
    {
     "name": "stdout",
     "output_type": "stream",
     "text": [
      "Kazim\n"
     ]
    }
   ],
   "source": [
    "class Teacher():\n",
    "    def __init__(this, teacher_id: int, teacher_name: str) -> None:\n",
    "        this.name : str = teacher_name # self.attribute_name = value\n",
    "        this.teacher_id : int = teacher_id\n",
    "        this.organization_name : str = \"PIAIC\"\n",
    "\n",
    "    def _speak(this, word: str) -> None:\n",
    "        print(f\"{this.name} is teacher {word}\")\n",
    "\n",
    "    def teaching(this, subject: str) -> None:\n",
    "        print(f\"{this.name} is teaching {subject}\")\n",
    "\n",
    "# Correct instantiation\n",
    "obj1: Teacher = Teacher(1, \"Kazim\")\n",
    "print(obj1.name)\n"
   ]
  },
  {
   "cell_type": "markdown",
   "metadata": {},
   "source": [
    "# Class Variable\n",
    "* Class Variable\n",
    "* this value use for all objects\n",
    "    * `ClassName.class_variable`\n",
    "    * `object_name.class_variable`\n",
    "    ```\n",
    "    class ClassName():\n",
    "        class_variable : type = Value\n",
    "    ```"
   ]
  },
  {
   "cell_type": "code",
   "execution_count": 105,
   "metadata": {},
   "outputs": [
    {
     "name": "stdout",
     "output_type": "stream",
     "text": [
      "1 1\n"
     ]
    }
   ],
   "source": [
    "class Teacher():\n",
    "    counter : int = 0 # Class_variable1\n",
    "    help_line_number : int = 3114890967 # Class_variable2\n",
    "    \n",
    "    def __init__(self, teacher_id: int, teacher_name: str) -> None:\n",
    "        self.name = teacher_name\n",
    "        self.teacher_id = teacher_id\n",
    "        self.organization_name = \"PIAIC\"\n",
    "        Teacher.counter += 1\n",
    "\n",
    "    def _speak(self, word: str) -> None:\n",
    "        print(f\"{self.name} is teacher {word}\")\n",
    "\n",
    "    def teaching(self, subject: str) -> None:\n",
    "        print(f\"{self.name} is teaching {subject}\")\n",
    "        \n",
    "    def details(self)-> None:\n",
    "        information : str = f\"\"\"\n",
    "    Teacher name is {self.name}\n",
    "    our help line number is {Teacher.help_line_number}\n",
    "    \"\"\"\n",
    "    \n",
    "        print(information)\n",
    "        \n",
    "obj1 : Teacher = Teacher(1, \"Kazim\")\n",
    "\n",
    "print(Teacher.counter, obj1.counter)\n",
    "        \n",
    "    "
   ]
  },
  {
   "cell_type": "code",
   "execution_count": 106,
   "metadata": {},
   "outputs": [
    {
     "name": "stdout",
     "output_type": "stream",
     "text": [
      "2 2\n"
     ]
    }
   ],
   "source": [
    "obj2 : Teacher = Teacher(2, \"Hamza\")\n",
    "print(Teacher.counter, obj2.counter)"
   ]
  },
  {
   "cell_type": "code",
   "execution_count": 107,
   "metadata": {},
   "outputs": [
    {
     "name": "stdout",
     "output_type": "stream",
     "text": [
      "3 3\n"
     ]
    }
   ],
   "source": [
    "obj3 : Teacher = Teacher(3, \"Hamza\")\n",
    "print(Teacher.counter, obj3.counter)"
   ]
  },
  {
   "cell_type": "code",
   "execution_count": 102,
   "metadata": {},
   "outputs": [
    {
     "name": "stdout",
     "output_type": "stream",
     "text": [
      "\n",
      "    Teacher name is Kazim\n",
      "    our help line number is 3114890967\n",
      "    \n"
     ]
    }
   ],
   "source": [
    "obj1.details()"
   ]
  },
  {
   "cell_type": "code",
   "execution_count": 109,
   "metadata": {},
   "outputs": [
    {
     "name": "stdout",
     "output_type": "stream",
     "text": [
      "3\n",
      "3\n",
      "3\n",
      "3114890967\n",
      "3114890967\n",
      "3114890967\n"
     ]
    }
   ],
   "source": [
    "print(obj1.counter)\n",
    "print(obj2.counter)\n",
    "print(Teacher.counter)\n",
    "\n",
    "print(obj1.help_line_number)\n",
    "print(obj2.help_line_number)\n",
    "print(Teacher.help_line_number)"
   ]
  },
  {
   "cell_type": "markdown",
   "metadata": {},
   "source": [
    "## Inheritance:\n",
    "Inheritance allows a class (subclass or derived class) to inherit the properties and methods of another class (base class or parent class).\n",
    "It promotes code reusability.\n",
    "\n",
    "## Encapsulation:\n",
    "Encapsulation is the bundling of data (attributes) and methods that operate on the data within a single unit, i.e., the class.\n",
    "It helps to hide the internal details of how an object's state is managed.\n",
    "\n",
    "## Abstraction:\n",
    "Abstraction involves simplifying complex systems by modeling classes based on the essential properties and behaviors they share.\n",
    "It hides the unnecessary details from the user.\n",
    "\n",
    "## Polymorphism:\n",
    "Polymorphism allows objects of different classes to be treated as objects of a common base class.\n",
    "It enables a single interface to represent different types of objects."
   ]
  },
  {
   "cell_type": "markdown",
   "metadata": {},
   "source": [
    "## Inheritance:\n",
    "```\n",
    "class ChildClass(ParentClass):\n",
    "    pass\n",
    "```"
   ]
  },
  {
   "cell_type": "code",
   "execution_count": 120,
   "metadata": {},
   "outputs": [
    {
     "name": "stdout",
     "output_type": "stream",
     "text": [
      "Brown\n",
      "black\n",
      "Parent method speaking:Pakistan Zindabad!\n",
      "You'r looking TV!\n",
      "====Child Object=====\n",
      "You'r looking Cinema!\n",
      "None\n",
      "Parent method speaking:Hello World!\n",
      "None\n",
      "Brown\n",
      "black\n"
     ]
    }
   ],
   "source": [
    "class Parents():\n",
    "    def __init__(self)-> None:\n",
    "        self.eye_color : str = \"Brown\"\n",
    "        self.hair_color : str = \"black\"\n",
    "    \n",
    "    def speak(self, word: str)-> None:\n",
    "        print(f\"Parent method speaking:{word}\")\n",
    "        \n",
    "    def watching(self, object_name : str)-> None:\n",
    "        print(f\"You'r looking {object_name}!\")\n",
    "        \n",
    "    \n",
    "class Child(Parents):\n",
    "    pass\n",
    "\n",
    "obj1 : Parents = Parents()\n",
    "print(obj1.eye_color)\n",
    "print(obj1.hair_color)\n",
    "obj1.speak(\"Pakistan Zindabad!\")\n",
    "obj1.watching(\"TV\")\n",
    "\n",
    "\n",
    "## Child Object\n",
    "print(\"====Child Object=====\")\n",
    "obj2 : Child = Child()\n",
    "print(obj2.watching(\"Cinema\"))\n",
    "print(obj2.speak(\"Hello World!\"))\n",
    "print(obj2.eye_color)\n",
    "print(obj2.hair_color)\n",
    "\n",
    "        "
   ]
  },
  {
   "cell_type": "code",
   "execution_count": 127,
   "metadata": {},
   "outputs": [
    {
     "name": "stdout",
     "output_type": "stream",
     "text": [
      "Brown\n",
      "black\n",
      "Parent method speaking:Pakistan Zindabad!\n",
      "You'r looking TV!\n",
      "====Child Object=====\n",
      "You'r looking Cinema!\n",
      "Parent method speaking:Hello World!\n",
      "Brown\n",
      "black\n",
      "Child Method for teaching : Deep Learning\n"
     ]
    }
   ],
   "source": [
    "class Parents():\n",
    "    def __init__(self)-> None:\n",
    "        self.eye_color : str = \"Brown\"\n",
    "        self.hair_color : str = \"black\"\n",
    "    \n",
    "    def speak(self, word: str)-> None:\n",
    "        print(f\"Parent method speaking:{word}\")\n",
    "        \n",
    "    def watching(self, object_name : str)-> None:\n",
    "        print(f\"You'r looking {object_name}!\")\n",
    "        \n",
    "    \n",
    "class Child(Parents):\n",
    "    def teaching(self, subject : str = None)-> None:\n",
    "        print(f\"Child Method for teaching : {subject}\")\n",
    "\n",
    "\n",
    "obj1 : Parents = Parents()\n",
    "print(obj1.eye_color)\n",
    "print(obj1.hair_color)\n",
    "obj1.speak(\"Pakistan Zindabad!\")\n",
    "obj1.watching(\"TV\")\n",
    "\n",
    "\n",
    "## Child Object\n",
    "print(\"====Child Object=====\")\n",
    "obj2 : Child = Child()\n",
    "obj2.watching(\"Cinema\")\n",
    "obj2.speak(\"Hello World!\")\n",
    "print(obj2.eye_color)\n",
    "print(obj2.hair_color)\n",
    "obj2.teaching(\"Deep Learning\")\n",
    "\n",
    "        "
   ]
  }
 ],
 "metadata": {
  "kernelspec": {
   "display_name": "Python 3",
   "language": "python",
   "name": "python3"
  },
  "language_info": {
   "codemirror_mode": {
    "name": "ipython",
    "version": 3
   },
   "file_extension": ".py",
   "mimetype": "text/x-python",
   "name": "python",
   "nbconvert_exporter": "python",
   "pygments_lexer": "ipython3",
   "version": "3.11.3"
  }
 },
 "nbformat": 4,
 "nbformat_minor": 2
}
