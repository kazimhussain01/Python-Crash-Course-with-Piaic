{
 "cells": [
  {
   "cell_type": "markdown",
   "metadata": {},
   "source": [
    "# Package\n",
    "### How can we create python package for public users ?"
   ]
  },
  {
   "cell_type": "code",
   "execution_count": 33,
   "metadata": {},
   "outputs": [
    {
     "ename": "ModuleNotFoundError",
     "evalue": "No module named 'piaic.genai'",
     "output_type": "error",
     "traceback": [
      "\u001b[1;31m---------------------------------------------------------------------------\u001b[0m",
      "\u001b[1;31mModuleNotFoundError\u001b[0m                       Traceback (most recent call last)",
      "\u001b[1;32me:\\PIAIC\\Python Crash Course with Piaic\\Chpter-10\\class15-(Encapsolation-Abstract-Call-able)\\class15.ipynb Cell 2\u001b[0m line \u001b[0;36m1\n\u001b[1;32m----> <a href='vscode-notebook-cell:/e%3A/PIAIC/Python%20Crash%20Course%20with%20Piaic/Chpter-10/class15-%28Encapsolation-Abstract-Call-able%29/class15.ipynb#X11sZmlsZQ%3D%3D?line=0'>1</a>\u001b[0m \u001b[39mfrom\u001b[39;00m \u001b[39mpiaic\u001b[39;00m\u001b[39m.\u001b[39;00m\u001b[39mgenai\u001b[39;00m \u001b[39mimport\u001b[39;00m Piaic\n\u001b[0;32m      <a href='vscode-notebook-cell:/e%3A/PIAIC/Python%20Crash%20Course%20with%20Piaic/Chpter-10/class15-%28Encapsolation-Abstract-Call-able%29/class15.ipynb#X11sZmlsZQ%3D%3D?line=2'>3</a>\u001b[0m abc : Piaic \u001b[39m=\u001b[39m Piaic()\n",
      "\u001b[1;31mModuleNotFoundError\u001b[0m: No module named 'piaic.genai'"
     ]
    }
   ],
   "source": [
    "from piaic.genai import Piaic\n",
    "\n",
    "abc : Piaic = Piaic()"
   ]
  },
  {
   "cell_type": "markdown",
   "metadata": {},
   "source": [
    "# Public, Private & Protected"
   ]
  },
  {
   "cell_type": "code",
   "execution_count": 34,
   "metadata": {},
   "outputs": [
    {
     "name": "stdout",
     "output_type": "stream",
     "text": [
      "0800-41\n"
     ]
    }
   ],
   "source": [
    "class Piaic():\n",
    "    def __init__(self) -> None:\n",
    "        # self.name                 # public\n",
    "        self.piaic_helpline : str = \"0800-41\"\n",
    "        # self.name                 # protected\n",
    "        self._total_expense : int = \"50000\"\n",
    "        # self.name                 # private\n",
    "        self.__test_announcement : str = \"21 Nov 2023\"\n",
    "        \n",
    "        \n",
    "kazim : Piaic = Piaic()\n",
    "\n",
    "print(kazim.piaic_helpline) # It's a Publicly Acceesebly \n",
    "\n"
   ]
  },
  {
   "cell_type": "code",
   "execution_count": 36,
   "metadata": {},
   "outputs": [
    {
     "name": "stdout",
     "output_type": "stream",
     "text": [
      "5050-5050\n"
     ]
    }
   ],
   "source": [
    "kazim.piaic_helpline = \"5050-5050\"\n",
    "print(kazim.piaic_helpline)\n"
   ]
  },
  {
   "cell_type": "code",
   "execution_count": 39,
   "metadata": {},
   "outputs": [
    {
     "ename": "AttributeError",
     "evalue": "'Piaic' object has no attribute 'test_announcement'",
     "output_type": "error",
     "traceback": [
      "\u001b[1;31m---------------------------------------------------------------------------\u001b[0m",
      "\u001b[1;31mAttributeError\u001b[0m                            Traceback (most recent call last)",
      "\u001b[1;32me:\\PIAIC\\Python Crash Course with Piaic\\Chpter-10\\class15-(Encapsolation-Abstract-Call-able)\\class15.ipynb Cell 5\u001b[0m line \u001b[0;36m1\n\u001b[1;32m----> <a href='vscode-notebook-cell:/e%3A/PIAIC/Python%20Crash%20Course%20with%20Piaic/Chpter-10/class15-%28Encapsolation-Abstract-Call-able%29/class15.ipynb#X15sZmlsZQ%3D%3D?line=0'>1</a>\u001b[0m kazim\u001b[39m.\u001b[39;49mtest_announcement\n",
      "\u001b[1;31mAttributeError\u001b[0m: 'Piaic' object has no attribute 'test_announcement'"
     ]
    }
   ],
   "source": [
    "kazim.test_announcement"
   ]
  },
  {
   "cell_type": "code",
   "execution_count": 40,
   "metadata": {},
   "outputs": [
    {
     "ename": "AttributeError",
     "evalue": "'Piaic' object has no attribute '__test_announcement'",
     "output_type": "error",
     "traceback": [
      "\u001b[1;31m---------------------------------------------------------------------------\u001b[0m",
      "\u001b[1;31mAttributeError\u001b[0m                            Traceback (most recent call last)",
      "\u001b[1;32me:\\PIAIC\\Python Crash Course with Piaic\\Chpter-10\\class15-(Encapsolation-Abstract-Call-able)\\class15.ipynb Cell 6\u001b[0m line \u001b[0;36m1\n\u001b[1;32m----> <a href='vscode-notebook-cell:/e%3A/PIAIC/Python%20Crash%20Course%20with%20Piaic/Chpter-10/class15-%28Encapsolation-Abstract-Call-able%29/class15.ipynb#X16sZmlsZQ%3D%3D?line=0'>1</a>\u001b[0m kazim\u001b[39m.\u001b[39;49m__test_announcement\n",
      "\u001b[1;31mAttributeError\u001b[0m: 'Piaic' object has no attribute '__test_announcement'"
     ]
    }
   ],
   "source": [
    "kazim.__test_announcement"
   ]
  },
  {
   "cell_type": "markdown",
   "metadata": {},
   "source": [
    "## Private Acceesebly Method"
   ]
  },
  {
   "cell_type": "code",
   "execution_count": 42,
   "metadata": {},
   "outputs": [
    {
     "data": {
      "text/plain": [
       "'21 Nov 2023'"
      ]
     },
     "execution_count": 42,
     "metadata": {},
     "output_type": "execute_result"
    }
   ],
   "source": [
    "kazim._Piaic__test_announcement"
   ]
  },
  {
   "cell_type": "code",
   "execution_count": 60,
   "metadata": {},
   "outputs": [],
   "source": [
    "class StudentLogin:\n",
    "    def __init__(self) -> None:\n",
    "        self.__username: str = \"Admin\"  # Private\n",
    "        self.__password: str = \"Admin\"  # Private\n",
    "\n",
    "    def __dbconnectivity(self, user: str, password: str):\n",
    "        print(\"Successfully Connected\")\n",
    "        if user == self.__username and password == self.__password:\n",
    "            return \"Valid User\"\n",
    "        else:\n",
    "            return \"Invalid User\"\n",
    "\n",
    "    def update_password(self, password: str):\n",
    "        self.__password = password\n",
    "\n",
    "    def student_login(self, user: str, pass1: str):\n",
    "        message: str = self.__dbconnectivity(user, pass1)\n",
    "        print(message)\n",
    "\n",
    "    def display_information(self):\n",
    "        print(f\"Hello Dear, {self.__username} and password {self.__password}\")\n",
    "        \n",
    "\n",
    "kazim: StudentLogin = StudentLogin()"
   ]
  },
  {
   "cell_type": "code",
   "execution_count": 45,
   "metadata": {},
   "outputs": [
    {
     "ename": "AttributeError",
     "evalue": "'StudentLogin' object has no attribute '__password'",
     "output_type": "error",
     "traceback": [
      "\u001b[1;31m---------------------------------------------------------------------------\u001b[0m",
      "\u001b[1;31mAttributeError\u001b[0m                            Traceback (most recent call last)",
      "\u001b[1;32me:\\PIAIC\\Python Crash Course with Piaic\\Chpter-10\\class15-(Encapsolation-Abstract-Call-able)\\class15.ipynb Cell 11\u001b[0m line \u001b[0;36m1\n\u001b[1;32m----> <a href='vscode-notebook-cell:/e%3A/PIAIC/Python%20Crash%20Course%20with%20Piaic/Chpter-10/class15-%28Encapsolation-Abstract-Call-able%29/class15.ipynb#X24sZmlsZQ%3D%3D?line=0'>1</a>\u001b[0m kazim\u001b[39m.\u001b[39;49m__password\n",
      "\u001b[1;31mAttributeError\u001b[0m: 'StudentLogin' object has no attribute '__password'"
     ]
    }
   ],
   "source": [
    "kazim.__password"
   ]
  },
  {
   "cell_type": "code",
   "execution_count": 47,
   "metadata": {},
   "outputs": [
    {
     "name": "stdout",
     "output_type": "stream",
     "text": [
      "Hello Dear, Admin and password Admin\n"
     ]
    }
   ],
   "source": [
    "kazim.display_information()"
   ]
  },
  {
   "cell_type": "code",
   "execution_count": 48,
   "metadata": {},
   "outputs": [
    {
     "name": "stdout",
     "output_type": "stream",
     "text": [
      "Successfully Connected\n",
      "Invalid User\n"
     ]
    }
   ],
   "source": [
    "kazim.student_login(\"kazim\", \"Kazim123\")"
   ]
  },
  {
   "cell_type": "code",
   "execution_count": 61,
   "metadata": {},
   "outputs": [
    {
     "name": "stdout",
     "output_type": "stream",
     "text": [
      "Successfully Connected\n",
      "Valid User\n"
     ]
    }
   ],
   "source": [
    "kazim.student_login(\"Admin\", \"Admin\")\n"
   ]
  },
  {
   "cell_type": "code",
   "execution_count": 55,
   "metadata": {},
   "outputs": [],
   "source": [
    "kazim.update_password(\"kazim123\")"
   ]
  },
  {
   "cell_type": "markdown",
   "metadata": {},
   "source": [
    "# `__str__`"
   ]
  },
  {
   "cell_type": "code",
   "execution_count": 63,
   "metadata": {},
   "outputs": [
    {
     "name": "stdout",
     "output_type": "stream",
     "text": [
      "Student Name is Kazim Hussain\n"
     ]
    }
   ],
   "source": [
    "class Student():\n",
    "    def __init__(self, name) -> None:\n",
    "        self.name : str = name\n",
    "        \n",
    "    def __str__(self) -> None :\n",
    "        return f\"Student Name is {self.name}\"\n",
    "        \n",
    "student_name : Student = Student(\"Kazim Hussain\")\n",
    "print(student_name)"
   ]
  },
  {
   "cell_type": "markdown",
   "metadata": {},
   "source": [
    "# Abstract Class"
   ]
  },
  {
   "cell_type": "code",
   "execution_count": 66,
   "metadata": {},
   "outputs": [
    {
     "ename": "TypeError",
     "evalue": "Can't instantiate abstract class Animal with abstract method __init__",
     "output_type": "error",
     "traceback": [
      "\u001b[1;31m---------------------------------------------------------------------------\u001b[0m",
      "\u001b[1;31mTypeError\u001b[0m                                 Traceback (most recent call last)",
      "\u001b[1;32me:\\PIAIC\\Python Crash Course with Piaic\\Chpter-10\\class15-(Encapsolation-Abstract-Call-able)\\class15.ipynb Cell 19\u001b[0m line \u001b[0;36m9\n\u001b[0;32m      <a href='vscode-notebook-cell:/e%3A/PIAIC/Python%20Crash%20Course%20with%20Piaic/Chpter-10/class15-%28Encapsolation-Abstract-Call-able%29/class15.ipynb#X35sZmlsZQ%3D%3D?line=5'>6</a>\u001b[0m         \u001b[39msuper\u001b[39m()\u001b[39m.\u001b[39m\u001b[39m__init__\u001b[39m()\n\u001b[0;32m      <a href='vscode-notebook-cell:/e%3A/PIAIC/Python%20Crash%20Course%20with%20Piaic/Chpter-10/class15-%28Encapsolation-Abstract-Call-able%29/class15.ipynb#X35sZmlsZQ%3D%3D?line=6'>7</a>\u001b[0m         \u001b[39mself\u001b[39m\u001b[39m.\u001b[39mliving_thing : \u001b[39mbool\u001b[39m \u001b[39m=\u001b[39m \u001b[39mTrue\u001b[39;00m\n\u001b[1;32m----> <a href='vscode-notebook-cell:/e%3A/PIAIC/Python%20Crash%20Course%20with%20Piaic/Chpter-10/class15-%28Encapsolation-Abstract-Call-able%29/class15.ipynb#X35sZmlsZQ%3D%3D?line=8'>9</a>\u001b[0m kazim : Animal \u001b[39m=\u001b[39m Animal()\n",
      "\u001b[1;31mTypeError\u001b[0m: Can't instantiate abstract class Animal with abstract method __init__"
     ]
    }
   ],
   "source": [
    "from abc import ABC, abstractmethod\n",
    "\n",
    "class Animal(ABC):\n",
    "    @abstractmethod\n",
    "    def __init__(self) -> None:\n",
    "        super().__init__()\n",
    "        self.living_thing : bool = True\n",
    "        \n",
    "kazim : Animal = Animal()"
   ]
  },
  {
   "cell_type": "code",
   "execution_count": 74,
   "metadata": {},
   "outputs": [
    {
     "name": "stdout",
     "output_type": "stream",
     "text": [
      "True\n"
     ]
    }
   ],
   "source": [
    "from abc import ABC, abstractmethod\n",
    "\n",
    "class Animal(ABC):\n",
    "    @abstractmethod\n",
    "    def __init__(self) -> None:\n",
    "        super().__init__()\n",
    "        self.living_thing : bool = True\n",
    "        \n",
    "class Cat(Animal):\n",
    "    def __init__(self) -> None:\n",
    "        super().__init__()\n",
    "    \n",
    "kazim : Cat = Cat()\n",
    "\n",
    "print(kazim.living_thing)"
   ]
  },
  {
   "cell_type": "code",
   "execution_count": 75,
   "metadata": {},
   "outputs": [
    {
     "ename": "TypeError",
     "evalue": "Can't instantiate abstract class Cat with abstract method eat",
     "output_type": "error",
     "traceback": [
      "\u001b[1;31m---------------------------------------------------------------------------\u001b[0m",
      "\u001b[1;31mTypeError\u001b[0m                                 Traceback (most recent call last)",
      "\u001b[1;32me:\\PIAIC\\Python Crash Course with Piaic\\Chpter-10\\class15-(Encapsolation-Abstract-Call-able)\\class15.ipynb Cell 21\u001b[0m line \u001b[0;36m1\n\u001b[0;32m     <a href='vscode-notebook-cell:/e%3A/PIAIC/Python%20Crash%20Course%20with%20Piaic/Chpter-10/class15-%28Encapsolation-Abstract-Call-able%29/class15.ipynb#X41sZmlsZQ%3D%3D?line=13'>14</a>\u001b[0m     \u001b[39mdef\u001b[39;00m \u001b[39m__init__\u001b[39m(\u001b[39mself\u001b[39m) \u001b[39m-\u001b[39m\u001b[39m>\u001b[39m \u001b[39mNone\u001b[39;00m:\n\u001b[0;32m     <a href='vscode-notebook-cell:/e%3A/PIAIC/Python%20Crash%20Course%20with%20Piaic/Chpter-10/class15-%28Encapsolation-Abstract-Call-able%29/class15.ipynb#X41sZmlsZQ%3D%3D?line=14'>15</a>\u001b[0m         \u001b[39msuper\u001b[39m()\u001b[39m.\u001b[39m\u001b[39m__init__\u001b[39m()\n\u001b[1;32m---> <a href='vscode-notebook-cell:/e%3A/PIAIC/Python%20Crash%20Course%20with%20Piaic/Chpter-10/class15-%28Encapsolation-Abstract-Call-able%29/class15.ipynb#X41sZmlsZQ%3D%3D?line=16'>17</a>\u001b[0m kazim : Cat \u001b[39m=\u001b[39m Cat()\n\u001b[0;32m     <a href='vscode-notebook-cell:/e%3A/PIAIC/Python%20Crash%20Course%20with%20Piaic/Chpter-10/class15-%28Encapsolation-Abstract-Call-able%29/class15.ipynb#X41sZmlsZQ%3D%3D?line=18'>19</a>\u001b[0m \u001b[39mprint\u001b[39m(kazim\u001b[39m.\u001b[39mliving_thing)\n",
      "\u001b[1;31mTypeError\u001b[0m: Can't instantiate abstract class Cat with abstract method eat"
     ]
    }
   ],
   "source": [
    "from abc import ABC, abstractmethod\n",
    "\n",
    "class Animal(ABC):\n",
    "    @abstractmethod\n",
    "    def __init__(self) -> None:\n",
    "        super().__init__()\n",
    "        self.living_thing : bool = True\n",
    "    \n",
    "    @abstractmethod   \n",
    "    def eat(self, food : str):\n",
    "        ...   \n",
    "        \n",
    "class Cat(Animal):\n",
    "    def __init__(self) -> None:\n",
    "        super().__init__()\n",
    "    \n",
    "kazim : Cat = Cat()\n",
    "\n",
    "print(kazim.living_thing)"
   ]
  },
  {
   "cell_type": "code",
   "execution_count": 82,
   "metadata": {},
   "outputs": [
    {
     "name": "stdout",
     "output_type": "stream",
     "text": [
      "True\n"
     ]
    }
   ],
   "source": [
    "from abc import ABC, abstractmethod\n",
    "\n",
    "class Animal(ABC):\n",
    "    @abstractmethod\n",
    "    def __init__(self) -> None:\n",
    "        super().__init__()\n",
    "        self.living_thing : bool = True\n",
    "    \n",
    "    @abstractmethod   \n",
    "    def eat(self, food : str):\n",
    "        ...   \n",
    "        \n",
    "class Cat(Animal):\n",
    "    def __init__(self) -> None:\n",
    "        super().__init__()\n",
    "        \n",
    "    def eat(self, food: str) -> None:\n",
    "        return f\"Cat is eating {food}\"\n",
    "    \n",
    "kazim : Cat = Cat()\n",
    "\n",
    "print(kazim.living_thing)"
   ]
  },
  {
   "cell_type": "code",
   "execution_count": 83,
   "metadata": {},
   "outputs": [
    {
     "name": "stdout",
     "output_type": "stream",
     "text": [
      "Cat is eating Mouse\n"
     ]
    }
   ],
   "source": [
    "print(kazim.eat(\"Mouse\"))"
   ]
  },
  {
   "cell_type": "markdown",
   "metadata": {},
   "source": [
    "# Duck Typing\n",
    "https://ioflood.com/blog/duck-typing/"
   ]
  },
  {
   "cell_type": "code",
   "execution_count": 86,
   "metadata": {},
   "outputs": [
    {
     "name": "stdout",
     "output_type": "stream",
     "text": [
      "Quack!\n",
      "I'm Quacking Like a Duck!\n"
     ]
    }
   ],
   "source": [
    "class Duck:\n",
    "    def quack(self):\n",
    "        return 'Quack!'\n",
    "\n",
    "class Person:\n",
    "    def quack(self):\n",
    "        return 'I\\'m Quacking Like a Duck!'\n",
    "\n",
    "def in_the_forest(malard):\n",
    "    print(malard.quack())\n",
    "\n",
    "donald = Duck()\n",
    "john = Person()\n",
    "in_the_forest(donald)\n",
    "in_the_forest(john)\n",
    "\n",
    "# Output:\n",
    "# 'Quack!'\n",
    "# 'I'm Quacking Like a Duck!'"
   ]
  }
 ],
 "metadata": {
  "kernelspec": {
   "display_name": "Python 3",
   "language": "python",
   "name": "python3"
  },
  "language_info": {
   "codemirror_mode": {
    "name": "ipython",
    "version": 3
   },
   "file_extension": ".py",
   "mimetype": "text/x-python",
   "name": "python",
   "nbconvert_exporter": "python",
   "pygments_lexer": "ipython3",
   "version": "3.11.3"
  }
 },
 "nbformat": 4,
 "nbformat_minor": 2
}
