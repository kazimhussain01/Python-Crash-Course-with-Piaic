{
 "cells": [
  {
   "cell_type": "markdown",
   "metadata": {},
   "source": [
    "# if-else-elif\n",
    "```\n",
    "if logic:\n",
    "    True-Block\n",
    "else:\n",
    "    False-Block\n",
    "```\n",
    "\n",
    "# Comprehensive if-else\n",
    "```\n",
    "True-Block if logic else False-Block\n",
    "```\n",
    "\n",
    "* if\n",
    "* if-else\n",
    "* if-elif-else"
   ]
  },
  {
   "cell_type": "code",
   "execution_count": 5,
   "metadata": {},
   "outputs": [
    {
     "name": "stdout",
     "output_type": "stream",
     "text": [
      "Pakistan Zindabad\n"
     ]
    }
   ],
   "source": [
    "if True:\n",
    "    print(\"Pakistan Zindabad\")\n",
    "else:\n",
    "    print(\"Hello World!\")"
   ]
  },
  {
   "cell_type": "code",
   "execution_count": 6,
   "metadata": {},
   "outputs": [
    {
     "name": "stdout",
     "output_type": "stream",
     "text": [
      "Hello World!\n"
     ]
    }
   ],
   "source": [
    "if False:\n",
    "    print(\"Pakistan Zindabad\")\n",
    "else:\n",
    "    print(\"Hello World!\")"
   ]
  },
  {
   "cell_type": "code",
   "execution_count": 8,
   "metadata": {},
   "outputs": [
    {
     "name": "stdout",
     "output_type": "stream",
     "text": [
      "Hello World!\n"
     ]
    }
   ],
   "source": [
    "# Comprehensive Style\n",
    "\n",
    "print(\"Pakistan Zindabad\") if False else print(\"Hello World!\")"
   ]
  },
  {
   "cell_type": "code",
   "execution_count": 25,
   "metadata": {},
   "outputs": [
    {
     "name": "stdout",
     "output_type": "stream",
     "text": [
      "Audi\n",
      "BMW\n",
      "Subaru\n",
      "Toyota\n"
     ]
    }
   ],
   "source": [
    "cars = ['audi', 'bmw', 'subaru', 'toyota']\n",
    "for car in cars:\n",
    "    if car == 'bmw':\n",
    "        print(car.upper())\n",
    "    else:\n",
    "        print(car.title())"
   ]
  },
  {
   "cell_type": "code",
   "execution_count": 37,
   "metadata": {},
   "outputs": [
    {
     "data": {
      "text/plain": [
       "True"
      ]
     },
     "execution_count": 37,
     "metadata": {},
     "output_type": "execute_result"
    }
   ],
   "source": [
    "car = 'Audi'\n",
    "car.lower() == 'audi'"
   ]
  },
  {
   "cell_type": "code",
   "execution_count": 39,
   "metadata": {},
   "outputs": [
    {
     "name": "stdout",
     "output_type": "stream",
     "text": [
      "AUDI\n",
      "BMW\n",
      "mehran\n",
      "SUBARU\n",
      "TOYOTA\n"
     ]
    }
   ],
   "source": [
    "cars = ['audi', 'bmw', \"Mehran\",  'subaru', 'toyota']\n",
    "for car in cars:\n",
    "    if car != 'Mehran':\n",
    "        print(car.upper())\n",
    "    else:\n",
    "        print(car.lower())"
   ]
  },
  {
   "cell_type": "markdown",
   "metadata": {},
   "source": [
    "# Comprehensive Method"
   ]
  },
  {
   "cell_type": "code",
   "execution_count": 36,
   "metadata": {},
   "outputs": [
    {
     "data": {
      "text/plain": [
       "['Audi', 'BMW', 'Subaru', 'Toyota']"
      ]
     },
     "execution_count": 36,
     "metadata": {},
     "output_type": "execute_result"
    }
   ],
   "source": [
    "cars : list[str] = [\"audi\", \"bmw\", \"subaru\", \"toyota\"]\n",
    "[i.upper() if i == \"bmw\" else i.title() for i in cars]"
   ]
  },
  {
   "cell_type": "markdown",
   "metadata": {},
   "source": [
    "# In Operator"
   ]
  },
  {
   "cell_type": "code",
   "execution_count": 40,
   "metadata": {},
   "outputs": [
    {
     "data": {
      "text/plain": [
       "False"
      ]
     },
     "execution_count": 40,
     "metadata": {},
     "output_type": "execute_result"
    }
   ],
   "source": [
    "cars = ['audi', 'bmw', \"Mehran\",  'subaru', 'toyota']\n",
    "\n",
    "\"Changan\" in cars"
   ]
  },
  {
   "cell_type": "code",
   "execution_count": 42,
   "metadata": {},
   "outputs": [
    {
     "data": {
      "text/plain": [
       "True"
      ]
     },
     "execution_count": 42,
     "metadata": {},
     "output_type": "execute_result"
    }
   ],
   "source": [
    "cars = ['audi', 'bmw', \"Mehran\",  'subaru', 'toyota']\n",
    "\n",
    "\"toyota\" in cars"
   ]
  },
  {
   "cell_type": "markdown",
   "metadata": {},
   "source": [
    "# Checking Whether a Value Is Not in a List"
   ]
  },
  {
   "cell_type": "code",
   "execution_count": 48,
   "metadata": {},
   "outputs": [
    {
     "name": "stdout",
     "output_type": "stream",
     "text": [
      "True\n",
      "MARIE, you can post a response if you wish.\n"
     ]
    }
   ],
   "source": [
    "banned_users = ['andrew', 'carolina', 'david']\n",
    "user : str = \"marie\"\n",
    "\n",
    "print(user not in banned_users)\n",
    "print(f\"{user.upper()}, you can post a response if you wish.\")\n"
   ]
  },
  {
   "cell_type": "markdown",
   "metadata": {},
   "source": [
    "# Testing Multiple Conditions"
   ]
  },
  {
   "cell_type": "code",
   "execution_count": 63,
   "metadata": {},
   "outputs": [
    {
     "name": "stdout",
     "output_type": "stream",
     "text": [
      "Adding mushrooms.\n",
      "Adding extra cheese.\n"
     ]
    }
   ],
   "source": [
    "requested_toppings = ['mushrooms', 'extra cheese']\n",
    "\n",
    "if 'mushrooms' in requested_toppings:\n",
    " print(\"Adding mushrooms.\")\n",
    "\n",
    "if 'pepperoni' in requested_toppings:\n",
    " print(\"Adding pepperoni.\")\n",
    "\n",
    "if 'extra cheese' in requested_toppings:\n",
    " print(\"Adding extra cheese.\")"
   ]
  },
  {
   "cell_type": "markdown",
   "metadata": {},
   "source": [
    "# Using if Statements with Lists"
   ]
  },
  {
   "cell_type": "code",
   "execution_count": 71,
   "metadata": {},
   "outputs": [
    {
     "name": "stdout",
     "output_type": "stream",
     "text": [
      "Adding mushrooms.\n",
      "Adding green peppers.\n",
      "Adding extra cheese.\n",
      "\n",
      "Finished making your pizza!\n"
     ]
    }
   ],
   "source": [
    "requested_toppings = ['mushrooms', 'green peppers', 'extra cheese']\n",
    "\n",
    "for requested_topping in requested_toppings:\n",
    "    print(f\"Adding {requested_topping}.\")\n",
    "\n",
    "print(\"\\nFinished making your pizza!\")"
   ]
  },
  {
   "cell_type": "code",
   "execution_count": 65,
   "metadata": {},
   "outputs": [
    {
     "name": "stdout",
     "output_type": "stream",
     "text": [
      "Adding mushrooms.\n",
      "Sorry, we are out of green peppers right now.\n",
      "Adding extra cheese.\n",
      "\n",
      "Finished making your pizza!\n"
     ]
    }
   ],
   "source": [
    "requested_toppings = ['mushrooms', 'green peppers', 'extra cheese']\n",
    "\n",
    "for requested_topping in requested_toppings:\n",
    "    if requested_topping == \"green peppers\":\n",
    "        print(\"Sorry, we are out of green peppers right now.\")\n",
    "    else:\n",
    "        print(f\"Adding {requested_topping}.\")\n",
    "\n",
    "\n",
    "print(\"\\nFinished making your pizza!\")"
   ]
  },
  {
   "cell_type": "markdown",
   "metadata": {},
   "source": [
    "# Checking That a List Is Not Empty"
   ]
  },
  {
   "cell_type": "code",
   "execution_count": 73,
   "metadata": {},
   "outputs": [
    {
     "name": "stdout",
     "output_type": "stream",
     "text": [
      "Are you sure you want a plain pizza?\n"
     ]
    }
   ],
   "source": [
    "requested_toppings = ['mushrooms', 'green peppers', 'extra cheese']\n",
    "\n",
    "requested_toppings = []\n",
    "if requested_toppings:\n",
    "    for requested_topping in requested_toppings:\n",
    "        print(f\"Adding {requested_topping}.\")\n",
    "    print(\"\\nFinished making your pizza!\")\n",
    "else:\n",
    "    print(\"Are you sure you want a plain pizza?\")"
   ]
  },
  {
   "cell_type": "code",
   "execution_count": 67,
   "metadata": {},
   "outputs": [
    {
     "name": "stdout",
     "output_type": "stream",
     "text": [
      "Adding mushrooms.\n",
      "\n",
      "Finished making your pizza!\n"
     ]
    }
   ],
   "source": [
    "requested_toppings = ['mushrooms', 'green peppers', 'extra cheese']\n",
    "\n",
    "requested_toppings = [\"mushrooms\"]\n",
    "if requested_toppings:\n",
    "    for requested_topping in requested_toppings:\n",
    "        print(f\"Adding {requested_topping}.\")\n",
    "    print(\"\\nFinished making your pizza!\")\n",
    "else:\n",
    "    print(\"Are you sure you want a plain pizza?\")"
   ]
  },
  {
   "cell_type": "markdown",
   "metadata": {},
   "source": [
    "# Using Multiple Lists"
   ]
  },
  {
   "cell_type": "code",
   "execution_count": 70,
   "metadata": {},
   "outputs": [
    {
     "name": "stdout",
     "output_type": "stream",
     "text": [
      "Adding mushrooms.\n",
      "Sorry, we don't have french fries.\n",
      "Adding extra cheese.\n",
      "\n",
      "Finished making your pizza!\n"
     ]
    }
   ],
   "source": [
    "available_toppings = ['mushrooms', 'olives', 'green peppers',\n",
    " 'pepperoni', 'pineapple', 'extra cheese']\n",
    "\n",
    "requested_toppings = ['mushrooms', 'french fries', 'extra cheese']\n",
    "for requested_topping in requested_toppings:\n",
    "    if requested_topping in available_toppings:\n",
    "        print(f\"Adding {requested_topping}.\")\n",
    "    else:\n",
    "        print(f\"Sorry, we don't have {requested_topping}.\")\n",
    "print(\"\\nFinished making your pizza!\")"
   ]
  },
  {
   "cell_type": "markdown",
   "metadata": {},
   "source": [
    "# Compression Operator\n",
    "* ==\n",
    "* `>=`\n",
    "* <=\n",
    "* !=\n",
    "# Logic\n",
    "* and\n",
    "* or\n",
    "* not"
   ]
  },
  {
   "cell_type": "code",
   "execution_count": 26,
   "metadata": {},
   "outputs": [
    {
     "name": "stdout",
     "output_type": "stream",
     "text": [
      "True Pakistan Block\n",
      "1\n",
      "2\n"
     ]
    }
   ],
   "source": [
    "if True:\n",
    "    print(\"True Pakistan Block\")\n",
    "    \n",
    "print(\"1\")\n",
    "print(\"2\")"
   ]
  },
  {
   "cell_type": "code",
   "execution_count": 27,
   "metadata": {},
   "outputs": [
    {
     "name": "stdout",
     "output_type": "stream",
     "text": [
      "1\n",
      "2\n"
     ]
    }
   ],
   "source": [
    "if False:\n",
    "    print(\"True Pakistan Block\")\n",
    "    \n",
    "print('1')\n",
    "print('2')"
   ]
  },
  {
   "cell_type": "code",
   "execution_count": 28,
   "metadata": {},
   "outputs": [
    {
     "name": "stdout",
     "output_type": "stream",
     "text": [
      "True-Block\n"
     ]
    }
   ],
   "source": [
    "if True:\n",
    "    print(\"True-Block\")\n",
    "elif False:\n",
    "    print(\"elif Logic 1\")\n",
    "elif False:\n",
    "    print(\"elif Logic 2\")\n",
    "elif False:\n",
    "    print(\"elif Logic 3\")\n",
    "elif False:\n",
    "    print(\"elif Logic 4\")\n",
    "else:\n",
    "    print(\"Final Block Else\")\n",
    "     "
   ]
  },
  {
   "cell_type": "code",
   "execution_count": 29,
   "metadata": {},
   "outputs": [
    {
     "name": "stdout",
     "output_type": "stream",
     "text": [
      "elif Logic 1\n"
     ]
    }
   ],
   "source": [
    "if False:\n",
    "    print(\"True-Block\")\n",
    "elif True:\n",
    "    print(\"elif Logic 1\")\n",
    "elif False:\n",
    "    print(\"elif Logic 2\")\n",
    "elif False:\n",
    "    print(\"elif Logic 3\")\n",
    "elif False:\n",
    "    print(\"elif Logic 4\")\n",
    "else:\n",
    "    print(\"Final Block Else\")"
   ]
  },
  {
   "cell_type": "code",
   "execution_count": 30,
   "metadata": {},
   "outputs": [
    {
     "name": "stdout",
     "output_type": "stream",
     "text": [
      "elif Logic 2\n"
     ]
    }
   ],
   "source": [
    "if False:\n",
    "    print(\"True-Block\")\n",
    "elif False:\n",
    "    print(\"elif Logic 1\")\n",
    "elif True:\n",
    "    print(\"elif Logic 2\")\n",
    "elif False:\n",
    "    print(\"elif Logic 3\")\n",
    "elif False:\n",
    "    print(\"elif Logic 4\")\n",
    "else:\n",
    "    print(\"Final Block Else\")"
   ]
  },
  {
   "cell_type": "code",
   "execution_count": 31,
   "metadata": {},
   "outputs": [
    {
     "name": "stdout",
     "output_type": "stream",
     "text": [
      "elif Logic 2\n",
      "Final Block Else\n"
     ]
    }
   ],
   "source": [
    "# Chain-1 Only run One Block\n",
    "\n",
    "if False:\n",
    "    print(\"True-Block\")\n",
    "elif False:\n",
    "    print(\"elif Logic 1\")\n",
    "elif True:\n",
    "    print(\"elif Logic 2\")\n",
    "elif False:\n",
    "    print(\"elif Logic 3\")\n",
    "elif True:\n",
    "    print(\"elif Logic 4\")\n",
    "else:\n",
    "    print(\"Final Block Else\")\n",
    "    \n",
    "# Chain-2 Only run One Block\n",
    "\n",
    "if False:\n",
    "    print(\"True-Block\")\n",
    "elif False:\n",
    "    print(\"elif Logic 1\")\n",
    "elif False:\n",
    "    print(\"elif Logic 2\")\n",
    "elif False:\n",
    "    print(\"elif Logic 3\")\n",
    "elif False:\n",
    "    print(\"elif Logic 4\")\n",
    "else:\n",
    "    print(\"Final Block Else\")"
   ]
  },
  {
   "cell_type": "markdown",
   "metadata": {},
   "source": [
    "# Grading Rule"
   ]
  },
  {
   "cell_type": "code",
   "execution_count": 32,
   "metadata": {},
   "outputs": [
    {
     "name": "stdout",
     "output_type": "stream",
     "text": [
      "Dear Student Your Percentage is 88 now your calculated grade is: A+\n"
     ]
    }
   ],
   "source": [
    "from typing import Union\n",
    "\n",
    "percentage : Union[float, int] = 88\n",
    "grade : Union[str, None] = None\n",
    "\n",
    "if percentage >= 88:\n",
    "    grade = \"A+\"\n",
    "elif percentage >= 70:\n",
    "    grade = \"A\"\n",
    "elif percentage >= 60:\n",
    "    grade = \"B\"\n",
    "elif percentage >= 50:\n",
    "    grade = \"C\"\n",
    "elif percentage >= 40:\n",
    "    grade = \"D\"\n",
    "elif percentage >= 33:\n",
    "    grade = \"E\"\n",
    "else:\n",
    "    grade = \"Fail\"\n",
    "\n",
    "print(f'Dear Student Your Percentage is {percentage} now your calculated grade is: {grade}')"
   ]
  },
  {
   "cell_type": "code",
   "execution_count": 74,
   "metadata": {},
   "outputs": [
    {
     "name": "stdout",
     "output_type": "stream",
     "text": [
      "<class 'int'>\n",
      "746564\n"
     ]
    }
   ],
   "source": [
    "a = int(input(\"Enter your Percentage\"))\n",
    "print(type(a))\n",
    "print(a)"
   ]
  },
  {
   "cell_type": "code",
   "execution_count": 75,
   "metadata": {},
   "outputs": [
    {
     "name": "stdout",
     "output_type": "stream",
     "text": [
      "Dear Student Your Percentage is 64 now your calculated grade is: B\n"
     ]
    }
   ],
   "source": [
    "from typing import Union\n",
    "\n",
    "percentage : Union[float, int] = int(input(\"Enter Your Percentage\"))\n",
    "grade : Union[str, None] = None\n",
    "\n",
    "if percentage >= 88:\n",
    "    grade = \"A+\"\n",
    "elif percentage >= 70:\n",
    "    grade = \"A\"\n",
    "elif percentage >= 60:\n",
    "    grade = \"B\"\n",
    "elif percentage >= 50:\n",
    "    grade = \"C\"\n",
    "elif percentage >= 40:\n",
    "    grade = \"D\"\n",
    "elif percentage >= 33:\n",
    "    grade = \"E\"\n",
    "else:\n",
    "    grade = \"Fail\"\n",
    "\n",
    "print(f'Dear Student Your Percentage is {percentage} now your calculated grade is: {grade}')"
   ]
  },
  {
   "cell_type": "markdown",
   "metadata": {},
   "source": [
    "# Logical Error"
   ]
  },
  {
   "cell_type": "code",
   "execution_count": 76,
   "metadata": {},
   "outputs": [
    {
     "name": "stdout",
     "output_type": "stream",
     "text": [
      "Dear Student Your Percentage is 7 now your calculated grade is: Fail\n"
     ]
    }
   ],
   "source": [
    "from typing import Union\n",
    "\n",
    "percentage : Union[float, int] = int(input(\"Enter Your Percentage\"))\n",
    "grade : Union[str, None] = None\n",
    "\n",
    "if percentage >= 0:\n",
    "    grade = \"Fail\"\n",
    "elif percentage >= 33:\n",
    "    grade = \"E\"\n",
    "elif percentage >= 40:\n",
    "    grade = \"D\"\n",
    "elif percentage >= 50:\n",
    "    grade = \"C\"\n",
    "elif percentage >= 60:\n",
    "    grade = \"B\"\n",
    "elif percentage >= 70:\n",
    "    grade = \"A\"\n",
    "else:\n",
    "    grade = \"Fail\"\n",
    "\n",
    "print(f'Dear Student Your Percentage is {percentage} now your calculated grade is: {grade}')"
   ]
  },
  {
   "cell_type": "markdown",
   "metadata": {},
   "source": [
    "# Solve Logical Error"
   ]
  },
  {
   "cell_type": "code",
   "execution_count": 78,
   "metadata": {},
   "outputs": [
    {
     "name": "stdout",
     "output_type": "stream",
     "text": [
      "Dear Student Your Percentage is 34.0 now your calculated grade is: E\n"
     ]
    }
   ],
   "source": [
    "from typing import Union\n",
    "\n",
    "percentage : Union[float, int] = float(input(\"Enter Your Percentage\"))\n",
    "grade : Union[str, None] = None\n",
    "\n",
    "if (percentage >= 0) and (percentage < 33):\n",
    "    grade = \"Fail\"\n",
    "elif (percentage >= 33) and (percentage < 40):\n",
    "    grade = \"E\"\n",
    "elif (percentage >= 40) and (percentage <50):\n",
    "    grade = \"D\"\n",
    "elif (percentage >= 50) and (percentage < 60):\n",
    "    grade = \"C\"\n",
    "elif (percentage >= 60) and (percentage < 70):\n",
    "    grade = \"B\"\n",
    "elif (percentage >= 70) and (percentage < 80):\n",
    "    grade = \"A\"\n",
    "elif (percentage >= 80) and (percentage < 100):\n",
    "    grade = \"A+\"\n",
    "\n",
    "print(f'Dear Student Your Percentage is {percentage} now your calculated grade is: {grade}')"
   ]
  },
  {
   "cell_type": "code",
   "execution_count": null,
   "metadata": {},
   "outputs": [
    {
     "name": "stdout",
     "output_type": "stream",
     "text": [
      "[88, 99.9, 50, 30, 70.4]\n",
      "['A+', 'A+', 'A+', 'A+', 'A+']\n",
      "[(88, 'A+'), (99.9, 'A+'), (50, 'A+'), (30, 'A+'), (70.4, 'A+')]\n"
     ]
    }
   ],
   "source": [
    "from typing import Union\n",
    "\n",
    "PerType = Union[float, int]\n",
    "\n",
    "percentages : list[PerType] = [88, 99.9, 50, 30, 70.4]\n",
    "\n",
    "grades : list[str] = []\n",
    "\n",
    "for per in percentages:\n",
    "    grade : str =  \"\"\n",
    "    \n",
    "    if (percentage >= 0) and (percentage <= 33):\n",
    "        grade = \"Fail\"\n",
    "    elif (percentage >= 33) and (percentage <= 40):\n",
    "        grade = \"E\"\n",
    "    elif (percentage >= 40) and (percentage <= 50):\n",
    "        grade = \"D\"\n",
    "    elif (percentage >= 50) and (percentage <= 60):\n",
    "        grade = \"C\"\n",
    "    elif (percentage >= 60) and (percentage <= 70):\n",
    "        grade = \"B\"\n",
    "    elif (percentage >= 70) and (percentage <= 80):\n",
    "        grade = \"A\"\n",
    "    elif (percentage >= 80) and (percentage <= 100):\n",
    "        grade = \"A+\"\n",
    "        \n",
    "    grades.append(grade)\n",
    "    \n",
    "\n",
    "print(percentages)\n",
    "print(grades)  \n",
    "\n",
    "# Zip Method  \n",
    "print(list(zip(percentages, grades)))\n"
   ]
  }
 ],
 "metadata": {
  "kernelspec": {
   "display_name": "Python 3",
   "language": "python",
   "name": "python3"
  },
  "language_info": {
   "codemirror_mode": {
    "name": "ipython",
    "version": 3
   },
   "file_extension": ".py",
   "mimetype": "text/x-python",
   "name": "python",
   "nbconvert_exporter": "python",
   "pygments_lexer": "ipython3",
   "version": "3.11.3"
  }
 },
 "nbformat": 4,
 "nbformat_minor": 2
}
