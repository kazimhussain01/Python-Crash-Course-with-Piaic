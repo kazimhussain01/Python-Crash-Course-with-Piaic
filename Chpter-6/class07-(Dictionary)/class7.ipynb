{
 "cells": [
  {
   "cell_type": "markdown",
   "metadata": {},
   "source": [
    "# Dictionaries\n",
    "    * Key: Value(items)\n",
    "        * Key replacement of indexes\n",
    "        * value item\n",
    "    * Dict_Variable[Key]\n",
    "        * Dict_Variable[new key] = new_value\n",
    "            * Add New Value\n",
    "            * Update Value"
   ]
  },
  {
   "cell_type": "code",
   "execution_count": 9,
   "metadata": {},
   "outputs": [
    {
     "name": "stdout",
     "output_type": "stream",
     "text": [
      "{'education': 'ICS', 'fname': 'Naseer Ahmad', 'name': 'Kazim Hussain'}\n"
     ]
    }
   ],
   "source": [
    "from typing import Dict, Union\n",
    "import pprint\n",
    "\n",
    "Key = Union[str, int] # Create Custom Type\n",
    "Value = Union[str, int, tuple, dict, set]\n",
    "\n",
    "# List\n",
    "data : Dict[Key, Value] = {\n",
    "                        \"fname\": \"Naseer Ahmad\",\n",
    "                        \"name\": \"Kazim Hussain\",\n",
    "                        \"education\": \"ICS\"\n",
    "                        }\n",
    "pprint.pprint(data)\n"
   ]
  },
  {
   "cell_type": "code",
   "execution_count": 25,
   "metadata": {},
   "outputs": [
    {
     "name": "stdout",
     "output_type": "stream",
     "text": [
      "{2000: 'Pakistan Zindabad',\n",
      " 'abc': [1, 2, 4],\n",
      " 'education': 'ICS',\n",
      " 'efg': {'a': 1, 'b': 2},\n",
      " 'fname': 'Naseer Ahmad',\n",
      " 'name': 'Kazim Hussain',\n",
      " 'xyz': {1, 2, 3, 5}}\n",
      "Naseer Ahmad\n",
      "Kazim Hussain\n",
      "ICS\n",
      "{1, 2, 3, 5}\n",
      "Pakistan Zindabad\n"
     ]
    }
   ],
   "source": [
    "from typing import Dict, Union\n",
    "import pprint\n",
    "\n",
    "Key = Union[str, int] # Create Custom Type\n",
    "Value = Union[str, int, tuple, dict, set]\n",
    "\n",
    "# List\n",
    "data : Dict[Key, Value] = {\n",
    "                        \"fname\": \"Naseer Ahmad\",\n",
    "                        \"name\": \"Kazim Hussain\",\n",
    "                        \"education\": \"ICS\",\n",
    "                        2000: \"Pakistan Zindabad\",\n",
    "                        \"abc\": [1,2,4],\n",
    "                        \"xyz\": {1,2,3,5},\n",
    "                        \"efg\": {\"a\":1, \"b\":2}\n",
    "                        # [1,2,3] : \"Pakistan\", #Error,\n",
    "                        # {1,2,3} : \"Pakistan\", #Error,\n",
    "                        # (1,2,3): \"Pakistan\", #Error\n",
    "                        }\n",
    "pprint.pprint(data)\n",
    "print(data[\"fname\"])\n",
    "print(data[\"name\"])\n",
    "print(data[\"education\"])\n",
    "print(data[\"xyz\"])\n",
    "print(data[2000])"
   ]
  },
  {
   "cell_type": "code",
   "execution_count": 28,
   "metadata": {},
   "outputs": [
    {
     "data": {
      "text/plain": [
       "2"
      ]
     },
     "execution_count": 28,
     "metadata": {},
     "output_type": "execute_result"
    }
   ],
   "source": [
    "from typing import Dict, Union\n",
    "import pprint\n",
    "\n",
    "Key = Union[str, int] # Create Custom Type\n",
    "Value = Union[str, int, tuple, dict, set]\n",
    "\n",
    "# List\n",
    "data : Dict[Key, Value] = {\n",
    "                        \"fname\": \"Naseer Ahmad\",\n",
    "                        \"name\": \"Kazim Hussain\",\n",
    "                        \"education\": \"ICS\",\n",
    "                        2000: \"Pakistan Zindabad\",\n",
    "                        \"abc\": [1,2,4],\n",
    "                        \"xyz\": {1,2,3,5},\n",
    "                        \"efg\": {\"a\":1, \"b\":2}\n",
    "                        # [1,2,3] : \"Pakistan\", #Error,\n",
    "                        # {1,2,3} : \"Pakistan\", #Error,\n",
    "                        # (1,2,3): \"Pakistan\", #Error\n",
    "                        }\n",
    "\n",
    "\n",
    "data['efg']['b']"
   ]
  },
  {
   "cell_type": "markdown",
   "metadata": {},
   "source": [
    "# Update Key Value & Data"
   ]
  },
  {
   "cell_type": "code",
   "execution_count": 30,
   "metadata": {},
   "outputs": [
    {
     "name": "stdout",
     "output_type": "stream",
     "text": [
      "{'fname': 'Naseer Ahmad', 'name': 'Kazim Hussain', 'education': 'ICS', 2000: 'Pakistan Zindabad'}\n",
      "{'fname': 'Naseer Ahmad', 'name': 'M.Kazim', 'education': 'ICS', 2000: 'Pakistan Zindabad'}\n"
     ]
    }
   ],
   "source": [
    "from typing import Dict, Union\n",
    "import pprint\n",
    "\n",
    "Key = Union[str, int] # Create Custom Type\n",
    "Value = Union[str, int, tuple, dict, set]\n",
    "\n",
    "data : Dict[Key, Value] = {\n",
    "                        \"fname\": \"Naseer Ahmad\",\n",
    "                        \"name\": \"Kazim Hussain\",\n",
    "                        \"education\": \"ICS\",\n",
    "                        2000: \"Pakistan Zindabad\",\n",
    "                        }\n",
    "\n",
    "print(data)\n",
    "\n",
    "data['name'] = \"M.Kazim\"\n",
    "print(data)"
   ]
  },
  {
   "cell_type": "code",
   "execution_count": 31,
   "metadata": {},
   "outputs": [
    {
     "data": {
      "text/plain": [
       "['clear',\n",
       " 'copy',\n",
       " 'fromkeys',\n",
       " 'get',\n",
       " 'items',\n",
       " 'keys',\n",
       " 'pop',\n",
       " 'popitem',\n",
       " 'setdefault',\n",
       " 'update',\n",
       " 'values']"
      ]
     },
     "execution_count": 31,
     "metadata": {},
     "output_type": "execute_result"
    }
   ],
   "source": [
    "from typing import Dict, Union\n",
    "import pprint\n",
    "\n",
    "Key = Union[str, int] # Create Custom Type\n",
    "Value = Union[str, int, tuple, dict, set]\n",
    "\n",
    "data : Dict[Key, Value] = {\n",
    "                        \"fname\": \"Naseer Ahmad\",\n",
    "                        \"name\": \"Kazim Hussain\",\n",
    "                        \"education\": \"ICS\",\n",
    "                        2000: \"Pakistan Zindabad\",\n",
    "                        }\n",
    "\n",
    "[i for i in dir(data) if \"__\" not in i]"
   ]
  },
  {
   "cell_type": "markdown",
   "metadata": {},
   "source": [
    "# Get Method"
   ]
  },
  {
   "cell_type": "code",
   "execution_count": 32,
   "metadata": {},
   "outputs": [
    {
     "ename": "KeyError",
     "evalue": "'Pakistan'",
     "output_type": "error",
     "traceback": [
      "\u001b[1;31m---------------------------------------------------------------------------\u001b[0m",
      "\u001b[1;31mKeyError\u001b[0m                                  Traceback (most recent call last)",
      "\u001b[1;32me:\\PIAIC\\Python Crash Course with Piaic\\Chpter-6\\class06-(Dictionaries)\\class6.ipynb Cell 9\u001b[0m line \u001b[0;36m1\n\u001b[0;32m      <a href='vscode-notebook-cell:/e%3A/PIAIC/Python%20Crash%20Course%20with%20Piaic/Chpter-6/class06-%28Dictionaries%29/class6.ipynb#X15sZmlsZQ%3D%3D?line=4'>5</a>\u001b[0m Value \u001b[39m=\u001b[39m Union[\u001b[39mstr\u001b[39m, \u001b[39mint\u001b[39m, \u001b[39mtuple\u001b[39m, \u001b[39mdict\u001b[39m, \u001b[39mset\u001b[39m]\n\u001b[0;32m      <a href='vscode-notebook-cell:/e%3A/PIAIC/Python%20Crash%20Course%20with%20Piaic/Chpter-6/class06-%28Dictionaries%29/class6.ipynb#X15sZmlsZQ%3D%3D?line=6'>7</a>\u001b[0m data : Dict[Key, Value] \u001b[39m=\u001b[39m {\n\u001b[0;32m      <a href='vscode-notebook-cell:/e%3A/PIAIC/Python%20Crash%20Course%20with%20Piaic/Chpter-6/class06-%28Dictionaries%29/class6.ipynb#X15sZmlsZQ%3D%3D?line=7'>8</a>\u001b[0m                         \u001b[39m\"\u001b[39m\u001b[39mfname\u001b[39m\u001b[39m\"\u001b[39m: \u001b[39m\"\u001b[39m\u001b[39mNaseer Ahmad\u001b[39m\u001b[39m\"\u001b[39m,\n\u001b[0;32m      <a href='vscode-notebook-cell:/e%3A/PIAIC/Python%20Crash%20Course%20with%20Piaic/Chpter-6/class06-%28Dictionaries%29/class6.ipynb#X15sZmlsZQ%3D%3D?line=8'>9</a>\u001b[0m                         \u001b[39m\"\u001b[39m\u001b[39mname\u001b[39m\u001b[39m\"\u001b[39m: \u001b[39m\"\u001b[39m\u001b[39mKazim Hussain\u001b[39m\u001b[39m\"\u001b[39m,\n\u001b[0;32m     <a href='vscode-notebook-cell:/e%3A/PIAIC/Python%20Crash%20Course%20with%20Piaic/Chpter-6/class06-%28Dictionaries%29/class6.ipynb#X15sZmlsZQ%3D%3D?line=9'>10</a>\u001b[0m                         \u001b[39m\"\u001b[39m\u001b[39meducation\u001b[39m\u001b[39m\"\u001b[39m: \u001b[39m\"\u001b[39m\u001b[39mICS\u001b[39m\u001b[39m\"\u001b[39m,\n\u001b[0;32m     <a href='vscode-notebook-cell:/e%3A/PIAIC/Python%20Crash%20Course%20with%20Piaic/Chpter-6/class06-%28Dictionaries%29/class6.ipynb#X15sZmlsZQ%3D%3D?line=10'>11</a>\u001b[0m                         \u001b[39m2000\u001b[39m: \u001b[39m\"\u001b[39m\u001b[39mPakistan Zindabad\u001b[39m\u001b[39m\"\u001b[39m,\n\u001b[0;32m     <a href='vscode-notebook-cell:/e%3A/PIAIC/Python%20Crash%20Course%20with%20Piaic/Chpter-6/class06-%28Dictionaries%29/class6.ipynb#X15sZmlsZQ%3D%3D?line=11'>12</a>\u001b[0m                         }\n\u001b[1;32m---> <a href='vscode-notebook-cell:/e%3A/PIAIC/Python%20Crash%20Course%20with%20Piaic/Chpter-6/class06-%28Dictionaries%29/class6.ipynb#X15sZmlsZQ%3D%3D?line=13'>14</a>\u001b[0m \u001b[39mprint\u001b[39m(data[\u001b[39m\"\u001b[39;49m\u001b[39mPakistan\u001b[39;49m\u001b[39m\"\u001b[39;49m])\n",
      "\u001b[1;31mKeyError\u001b[0m: 'Pakistan'"
     ]
    }
   ],
   "source": [
    "from typing import Dict, Union\n",
    "import pprint\n",
    "\n",
    "Key = Union[str, int] # Create Custom Type\n",
    "Value = Union[str, int, tuple, dict, set]\n",
    "\n",
    "data : Dict[Key, Value] = {\n",
    "                        \"fname\": \"Naseer Ahmad\",\n",
    "                        \"name\": \"Kazim Hussain\",\n",
    "                        \"education\": \"ICS\",\n",
    "                        2000: \"Pakistan Zindabad\",\n",
    "                        }\n",
    "\n",
    "print(data[\"Pakistan\"])"
   ]
  },
  {
   "cell_type": "code",
   "execution_count": 51,
   "metadata": {},
   "outputs": [
    {
     "name": "stdout",
     "output_type": "stream",
     "text": [
      "NA\n",
      "Kazim Hussain\n"
     ]
    }
   ],
   "source": [
    "from typing import Dict, Union\n",
    "import pprint\n",
    "\n",
    "Key = Union[str, int] # Create Custom Type\n",
    "Value = Union[str, int, tuple, dict, set]\n",
    "\n",
    "data : Dict[Key, Value] = {\n",
    "                        \"fname\": \"Naseer Ahmad\",\n",
    "                        \"name\": \"Kazim Hussain\",\n",
    "                        \"education\": \"ICS\",\n",
    "                        2000: \"Pakistan Zindabad\",\n",
    "                        }\n",
    "\n",
    "#                  key\n",
    "print(data.get('Pakistan', 'NA'))\n",
    "print(data.get('name'))"
   ]
  },
  {
   "cell_type": "markdown",
   "metadata": {},
   "source": [
    "* Key\n",
    "* Value \n",
    "* items"
   ]
  },
  {
   "cell_type": "markdown",
   "metadata": {},
   "source": [
    "# Get Keys"
   ]
  },
  {
   "cell_type": "code",
   "execution_count": 54,
   "metadata": {},
   "outputs": [
    {
     "name": "stdout",
     "output_type": "stream",
     "text": [
      "dict_keys(['fname', 'name', 'education', 2000])\n",
      "dict_values(['Naseer Ahmad', 'Kazim Hussain', 'ICS', 'Pakistan Zindabad'])\n",
      "dict_items([('fname', 'Naseer Ahmad'), ('name', 'Kazim Hussain'), ('education', 'ICS'), (2000, 'Pakistan Zindabad')])\n",
      "fname\n",
      "name\n",
      "education\n",
      "2000\n"
     ]
    }
   ],
   "source": [
    "from typing import Dict, Union\n",
    "import pprint\n",
    "\n",
    "Key = Union[str, int] # Create Custom Type\n",
    "Value = Union[str, int, tuple, dict, set]\n",
    "\n",
    "data : Dict[Key, Value] = {\n",
    "                        \"fname\": \"Naseer Ahmad\",\n",
    "                        \"name\": \"Kazim Hussain\",\n",
    "                        \"education\": \"ICS\",\n",
    "                        2000: \"Pakistan Zindabad\",\n",
    "                        }\n",
    "\n",
    "print(data.keys())\n",
    "print(data.values())\n",
    "print(data.items())\n",
    "\n",
    "for k in data.keys():\n",
    "    print(k)"
   ]
  },
  {
   "cell_type": "markdown",
   "metadata": {},
   "source": [
    "# Get Values"
   ]
  },
  {
   "cell_type": "code",
   "execution_count": 55,
   "metadata": {},
   "outputs": [
    {
     "name": "stdout",
     "output_type": "stream",
     "text": [
      "Naseer Ahmad\n",
      "Kazim Hussain\n",
      "ICS\n",
      "Pakistan Zindabad\n"
     ]
    },
    {
     "data": {
      "text/plain": [
       "['Naseer Ahmad', 'Kazim Hussain', 'ICS', 'Pakistan Zindabad']"
      ]
     },
     "execution_count": 55,
     "metadata": {},
     "output_type": "execute_result"
    }
   ],
   "source": [
    "from typing import Dict, Union\n",
    "import pprint\n",
    "\n",
    "Key = Union[str, int] # Create Custom Type\n",
    "Value = Union[str, int, tuple, dict, set]\n",
    "\n",
    "data : Dict[Key, Value] = {\n",
    "                        \"fname\": \"Naseer Ahmad\",\n",
    "                        \"name\": \"Kazim Hussain\",\n",
    "                        \"education\": \"ICS\",\n",
    "                        2000: \"Pakistan Zindabad\",\n",
    "                        }\n",
    "\n",
    "for v in data.values():\n",
    "    print(v)\n",
    "    \n",
    "[k for k in data.values()]"
   ]
  },
  {
   "cell_type": "markdown",
   "metadata": {},
   "source": [
    "# Get Items"
   ]
  },
  {
   "cell_type": "code",
   "execution_count": 49,
   "metadata": {},
   "outputs": [
    {
     "name": "stdout",
     "output_type": "stream",
     "text": [
      "fname Naseer Ahmad\n",
      "name Kazim Hussain\n",
      "education ICS\n",
      "2000 Pakistan Zindabad\n"
     ]
    }
   ],
   "source": [
    "from typing import Dict, Union\n",
    "import pprint\n",
    "\n",
    "Key = Union[str, int] # Create Custom Type\n",
    "Value = Union[str, int, tuple, dict, set]\n",
    "\n",
    "data : Dict[Key, Value] = {\n",
    "                        \"fname\": \"Naseer Ahmad\",\n",
    "                        \"name\": \"Kazim Hussain\",\n",
    "                        \"education\": \"ICS\",\n",
    "                        2000: \"Pakistan Zindabad\",\n",
    "                        }\n",
    "\n",
    "for k,v in data.items():\n",
    "    print(k,v)"
   ]
  },
  {
   "cell_type": "code",
   "execution_count": 60,
   "metadata": {},
   "outputs": [
    {
     "data": {
      "text/plain": [
       "{'fname': 'Naseer Ahmad',\n",
       " 'name': 'Kazim Hussain',\n",
       " 'education': 'ICS',\n",
       " 2000: 'Pakistan Zindabad'}"
      ]
     },
     "execution_count": 60,
     "metadata": {},
     "output_type": "execute_result"
    }
   ],
   "source": [
    "{k:v for k,v in data.items()}"
   ]
  },
  {
   "cell_type": "code",
   "execution_count": 19,
   "metadata": {},
   "outputs": [
    {
     "name": "stdout",
     "output_type": "stream",
     "text": [
      "{3, 4, 5, 6, 7, 8}\n"
     ]
    }
   ],
   "source": [
    "data : set = {7,5,3,3,5,6,4,4,4,6,7,8,4,6,3}\n",
    "print(data)"
   ]
  },
  {
   "cell_type": "code",
   "execution_count": 20,
   "metadata": {},
   "outputs": [
    {
     "data": {
      "text/plain": [
       "['add',\n",
       " 'clear',\n",
       " 'copy',\n",
       " 'difference',\n",
       " 'difference_update',\n",
       " 'discard',\n",
       " 'intersection',\n",
       " 'intersection_update',\n",
       " 'isdisjoint',\n",
       " 'issubset',\n",
       " 'issuperset',\n",
       " 'pop',\n",
       " 'remove',\n",
       " 'symmetric_difference',\n",
       " 'symmetric_difference_update',\n",
       " 'union',\n",
       " 'update']"
      ]
     },
     "execution_count": 20,
     "metadata": {},
     "output_type": "execute_result"
    }
   ],
   "source": [
    "[i for i in dir(data) if \"__\" not in i]"
   ]
  }
 ],
 "metadata": {
  "kernelspec": {
   "display_name": "Python 3",
   "language": "python",
   "name": "python3"
  },
  "language_info": {
   "codemirror_mode": {
    "name": "ipython",
    "version": 3
   },
   "file_extension": ".py",
   "mimetype": "text/x-python",
   "name": "python",
   "nbconvert_exporter": "python",
   "pygments_lexer": "ipython3",
   "version": "3.11.3"
  }
 },
 "nbformat": 4,
 "nbformat_minor": 2
}
